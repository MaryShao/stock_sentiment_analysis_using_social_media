{
 "cells": [
  {
   "cell_type": "markdown",
   "metadata": {},
   "source": [
    "Reddit data using Reddit API"
   ]
  },
  {
   "cell_type": "code",
   "execution_count": 1,
   "metadata": {},
   "outputs": [],
   "source": [
    "#pip install praw\n",
    "import praw\n",
    "reddit = praw.Reddit(client_id='cu5G838LAXfh2A', \n",
    "                              client_secret='UsPOUQKhde79g1zdGKaB_A0hWyw', \n",
    "                              user_agent='E4523Project129')"
   ]
  },
  {
   "cell_type": "code",
   "execution_count": 37,
   "metadata": {},
   "outputs": [],
   "source": [
    "#econ_subreddit = reddit.subreddit('Economics')\n",
    "#results = econ_subreddit.controversial(time_filter='year',limit=1000)\n",
    "\n",
    "#google_subreddit = reddit.subreddit('Google')\n",
    "#results = google_subreddit.controversial(time_filter='year',limit=1000)\n",
    "\n",
    "#amazon_subreddit = reddit.subreddit('Amazon')\n",
    "#results = amazon_subreddit.controversial(time_filter='year',limit=1000)\n",
    "\n",
    "#netflix_subreddit = reddit.subreddit('Netflix')\n",
    "#results = netflix_subreddit.controversial(time_filter='year',limit=1000)\n",
    "\n",
    "fb_subreddit = reddit.subreddit('Facebook')\n",
    "results = fb_subreddit.controversial(time_filter='year',limit=1000)\n",
    "#list(results)\n",
    "\n",
    "topics_dict = { 'author':[],\n",
    "               \"text_link\":[],\n",
    "               \"upvote_ratio\":[],\n",
    "               \"title\":[], \n",
    "                \"score\":[], \n",
    "                \"id\":[], \n",
    "               'comm':[],\n",
    "               \"url\":[], \n",
    "                \"comms_num\": [],\n",
    "               'comm_content':[], \n",
    "                \"created\": [], \n",
    "                \"body\":[]}"
   ]
  },
  {
   "cell_type": "code",
   "execution_count": 38,
   "metadata": {},
   "outputs": [],
   "source": [
    "for submission in results:\n",
    "    topics_dict[\"author\"].append(submission.author)\n",
    "    topics_dict[\"text_link\"].append(submission.link_flair_text)\n",
    "    topics_dict[\"title\"].append(submission.title)\n",
    "    topics_dict[\"score\"].append(submission.score)\n",
    "    topics_dict[\"upvote_ratio\"].append(submission.upvote_ratio)\n",
    "    topics_dict[\"id\"].append(submission.id)\n",
    "    topics_dict[\"comm\"].append(submission.comments)\n",
    "    topics_dict[\"url\"].append(submission.url)\n",
    "    topics_dict[\"comms_num\"].append(submission.num_comments)\n",
    "    topics_dict[\"created\"].append(submission.created)\n",
    "    topics_dict[\"body\"].append(submission.selftext)\n",
    "    submission.comments.replace_more(limit=0)\n",
    "    comm_list = []\n",
    "    for comment in submission.comments.list():\n",
    "        comm_list.append(comment.body)\n",
    "    topics_dict[\"comm_content\"].append(comm_list)"
   ]
  },
  {
   "cell_type": "code",
   "execution_count": 39,
   "metadata": {},
   "outputs": [],
   "source": [
    "import pandas as pd\n",
    "topics_data = pd.DataFrame(topics_dict)\n",
    "\n",
    "topics_data.sort_values('created',inplace=True)\n",
    "\n",
    "import datetime as dt\n",
    "def get_date(created):\n",
    "    return dt.datetime.fromtimestamp(created)\n",
    "time_stamp = topics_data[\"created\"].apply(get_date)\n",
    "topics_data = topics_data.assign(timestamp = time_stamp)\n",
    "\n",
    "#topics_data\n",
    "\n"
   ]
  },
  {
   "cell_type": "code",
   "execution_count": 41,
   "metadata": {},
   "outputs": [],
   "source": [
    "#topics_data.to_csv('reddit_econ.csv', index=False) \n",
    "#topics_data.to_csv('reddit_google.csv', index=False) \n",
    "#topics_data.to_csv('reddit_amazon.csv', index=False) \n",
    "#topics_data.to_csv('reddit_netflix.csv', index=False) \n",
    "topics_data.to_csv('reddit_fb.csv', index=False) "
   ]
  },
  {
   "cell_type": "code",
   "execution_count": null,
   "metadata": {},
   "outputs": [],
   "source": []
  }
 ],
 "metadata": {
  "kernelspec": {
   "display_name": "Python 3",
   "language": "python",
   "name": "python3"
  },
  "language_info": {
   "codemirror_mode": {
    "name": "ipython",
    "version": 3
   },
   "file_extension": ".py",
   "mimetype": "text/x-python",
   "name": "python",
   "nbconvert_exporter": "python",
   "pygments_lexer": "ipython3",
   "version": "3.7.3"
  }
 },
 "nbformat": 4,
 "nbformat_minor": 2
}
