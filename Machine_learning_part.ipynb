{
 "cells": [
  {
   "cell_type": "code",
   "execution_count": 1,
   "metadata": {},
   "outputs": [],
   "source": [
    "%matplotlib inline\n",
    "import numpy as np\n",
    "import pandas as pd\n",
    "import matplotlib.pyplot as plt\n",
    "import seaborn\n",
    "from sklearn.linear_model import LinearRegression\n",
    "from scipy import stats\n",
    "import pylab as pl\n",
    "import datetime\n",
    "import math\n",
    "import pydotplus \n",
    "from IPython.display import Image"
   ]
  },
  {
   "cell_type": "markdown",
   "metadata": {},
   "source": [
    "# Functions for data processing & model & valuation"
   ]
  },
  {
   "cell_type": "markdown",
   "metadata": {},
   "source": [
    "<li> Data preparation "
   ]
  },
  {
   "cell_type": "code",
   "execution_count": 2,
   "metadata": {},
   "outputs": [],
   "source": [
    "def data_pre(stock_file,reddit_file,nytime_file):\n",
    "    \n",
    "    ## Stock\n",
    "    stock = pd.read_csv(stock_file)#'AMZN.csv'\n",
    "    #daily\n",
    "    stock['log_rt'] = np.log(stock['Adj Close']/stock['Adj Close'].shift(1))\n",
    "    stock['direction'] = np.sign(stock['log_rt']) \n",
    "    # weekly\n",
    "    stock['day']=stock['Date'].apply(lambda x: datetime.datetime.strptime(x,'%Y-%m-%d'))\n",
    "    stock['weekinfo'] =stock['day'].apply(lambda x: x.isocalendar())\n",
    "    stock['week'] = stock['weekinfo'].apply(lambda x: str(x[0])+'-'+str(x[1]))\n",
    "    stock['weekday'] = stock['weekinfo'].apply(lambda x: x[2])\n",
    "    stock_weekly = pd.DataFrame(stock,columns=['week','weekday','log_rt'])\n",
    "    stock_weekly=stock_weekly.groupby(by='week').mean()\n",
    "    stock_weekly['direction'] = np.sign(stock_weekly['log_rt']) \n",
    "    stock_weekly = pd.DataFrame(stock,columns=['week','direction'])\n",
    "    \n",
    "    ## Reddit\n",
    "    reddit = pd.read_csv(reddit_file)#'\n",
    "    reddit = pd.DataFrame(reddit,columns=['timestamp','upvote_ratio','score','comms_num','anticipation','sadness',\n",
    "                                                'joy','negative','trust','positive','surprise','disgust','anger','fear'])\n",
    "    # modified\n",
    "    reddit['modified_positive'] = (reddit['positive']+reddit['joy']+reddit['trust']+reddit['surprise'])/4\n",
    "    reddit['modified_negative'] = (reddit['negative']+reddit['disgust']+reddit['anger']+reddit['fear'])/4\n",
    "    reddit['timestamp']=reddit['timestamp'].apply(lambda x: datetime.datetime.strptime(x,'%Y-%m-%d %H:%M:%S'))\n",
    "    reddit['timestamp']=reddit['timestamp'].apply(lambda x: datetime.datetime.date(x))\n",
    "    # take the average of all article  post on same date\n",
    "    reddit=reddit.groupby(by='timestamp').mean()\n",
    "    reddit.sort_index(ascending=True,inplace=True)\n",
    "    reddit=reddit.reset_index()\n",
    "    reddit['Date'] = reddit['timestamp'].apply(lambda x: str(x))\n",
    "    \n",
    "    ## NY-times\n",
    "    nytimes = pd.read_csv(nytime_file)\n",
    "    nytimes = pd.DataFrame(nytimes,columns=['date','week','anticipation','sadness','joy','negative',\n",
    "                                                'trust','positive','surprise','disgust','anger','fear'])\n",
    "    # modified\n",
    "    nytimes['modified_positive'] = (nytimes['positive']+nytimes['joy']+nytimes['trust']+nytimes['surprise'])/4\n",
    "    nytimes['modified_negative'] = (nytimes['negative']+nytimes['disgust']+nytimes['anger']+nytimes['fear'])/4\n",
    "    # take the average of all article  post on same date\n",
    "    nytimes=nytimes.groupby(by='week').mean()\n",
    "    nytimes.sort_index(ascending=True,inplace=True)\n",
    "    nytimes=nytimes.reset_index()\n",
    "    \n",
    "    return stock, stock_weekly, reddit, nytimes"
   ]
  },
  {
   "cell_type": "markdown",
   "metadata": {},
   "source": [
    "<li> Divide Train + test"
   ]
  },
  {
   "cell_type": "code",
   "execution_count": 3,
   "metadata": {},
   "outputs": [],
   "source": [
    "def train_test(stock,reddit,stock_weekly,nytimes):\n",
    "    from sklearn.model_selection import train_test_split\n",
    "    \n",
    "    ## Daily\n",
    "    daily = pd.merge(stock, reddit, how='left', on='Date')\n",
    "    daily=daily.dropna(how='any') \n",
    "    train, test = train_test_split(daily[1:], test_size = 0.3)  # 3:7\n",
    "    x_dtrain1 = train.iloc[0:,:]\n",
    "    x_dtrain1 = pd.DataFrame(x_dtrain1,columns=['upvote_ratio','score','comms_num','modified_positive','modified_negative'])\n",
    "    x_dtrain2 = train.iloc[0:,14:-2]\n",
    "    y_dtrain = train[['direction']]\n",
    "    x_dtest1 = test.iloc[0:,:]\n",
    "    x_dtest1 = pd.DataFrame(x_dtest1,columns=['upvote_ratio','score','comms_num','modified_positive','modified_negative'])\n",
    "    x_dtest2 = test.iloc[0:,14:-2]\n",
    "    y_dtest = test[['direction']]\n",
    "    \n",
    "    ## Weekly\n",
    "    weekly = pd.merge(stock_weekly, nytimes, how='left', on='week')\n",
    "    weekly=weekly.dropna(how='any') \n",
    "    train, test = train_test_split(weekly[1:], test_size = 0.3)  # 3:7\n",
    "    x_wtrain1 = train.iloc[0:,-2:]\n",
    "    x_wtrain2 = train.iloc[0:,2:-2]\n",
    "    y_wtrain = train[['direction']]\n",
    "    x_wtest1 = test.iloc[0:,-2:]\n",
    "    x_wtest2 = test.iloc[0:,2:-2]\n",
    "    y_wtest = test[['direction']]\n",
    "\n",
    "    return x_dtrain1,x_dtrain2,y_dtrain,x_dtest1,x_dtest2,y_dtest,x_wtrain1,x_wtrain2,y_wtrain,x_wtest1,x_wtest2,y_wtest"
   ]
  },
  {
   "cell_type": "markdown",
   "metadata": {},
   "source": [
    "<li> Machine Learning models (#=7)\n",
    "    \n",
    "    1. linear regression model\n",
    "    2. Decision tree: Classification trees\n",
    "    3. Random forest\n",
    "    4. SVM\n",
    "       (1) linear SVM\n",
    "       (2) non-linear SVM: sigmoid\n",
    "    5. Neural Network\n",
    "       (1) linear NN: 1 layer\n",
    "       (2) non-linear NN: 2-3 layers"
   ]
  },
  {
   "cell_type": "code",
   "execution_count": 4,
   "metadata": {},
   "outputs": [],
   "source": [
    "def get_classification(predictions,threshold):\n",
    "    classes = np.ones_like(predictions)\n",
    "    for i in range(len(classes)):\n",
    "        if predictions[i] < threshold:\n",
    "            classes[i] = -1\n",
    "    return classes\n",
    "\n",
    "from sklearn.metrics import confusion_matrix\n",
    "def c_m_analysis(true,pred,threshold):\n",
    "    tn, fp, fn, tp = confusion_matrix(true,get_classification(pred,threshold)).ravel()\n",
    "    precision = tp/(tp+fp)\n",
    "    recall = tp/(tp+fn)\n",
    "    fpr = fp/(fp+tn)\n",
    "    f_score = 2*precision*recall/(precision+recall)\n",
    "    accuracy = (tp+tn)/(tp+tn+fp+fn)\n",
    "    return precision,recall,fpr,f_score,accuracy"
   ]
  },
  {
   "cell_type": "code",
   "execution_count": 5,
   "metadata": {},
   "outputs": [],
   "source": [
    "def ml_modle(x_train,y_train,x_test,y_test,tree_max_depth=3,threshold=0,SVM_C=1,net_pass=10,hid_layer=5):\n",
    "    ## linear regression model\n",
    "    from sklearn import linear_model\n",
    "    model1 = linear_model.LinearRegression()\n",
    "    model1.fit(x_train,y_train)\n",
    "    testing_predictions1  = model1.predict(x_test)\n",
    "    testing_predictions1\n",
    "    linear = c_m_analysis(y_test,testing_predictions1,threshold)\n",
    "    \n",
    "    ## Decision tree: Classification trees\n",
    "    from sklearn.tree import DecisionTreeClassifier\n",
    "    from sklearn import tree\n",
    "    model2 = tree.DecisionTreeClassifier(max_depth = tree_max_depth,criterion='entropy')\n",
    "    model2.fit(x_train,y_train)\n",
    "    testing_predictions2  = model2.predict(x_test)\n",
    "    decision_tree=c_m_analysis(y_test,testing_predictions2,threshold) \n",
    "    # show graph\n",
    "    import pydotplus \n",
    "    from IPython.display import Image\n",
    "    feature_names = [key for key in x_train if not key == 'direction']\n",
    "    dot_data = tree.export_graphviz(model2, out_file=None,feature_names=feature_names) \n",
    "    dt_graph = pydotplus.graphviz.graph_from_dot_data(dot_data)\n",
    "    \n",
    "    ## random forest\n",
    "    from sklearn.ensemble import RandomForestClassifier\n",
    "    model3 = RandomForestClassifier(n_estimators=10)\n",
    "    model3.fit(x_train,y_train['direction'])\n",
    "    testing_predictions3  = model3.predict(x_test)\n",
    "    random_forest = c_m_analysis(y_test,testing_predictions3,threshold)\n",
    "    # feature importance\n",
    "    importances = model3.feature_importances_\n",
    "    \n",
    "    ## SVM\n",
    "    # linear\n",
    "    from sklearn import svm\n",
    "    model4 = svm.SVC(kernel='linear', C=SVM_C) \n",
    "    model4.fit(x_train,y_train['direction'])\n",
    "    model4.score(x_train,y_train)\n",
    "    testing_predictions4  = model4.predict(x_test)\n",
    "    SVM_linear = c_m_analysis(y_test,testing_predictions4,threshold)\n",
    "    #sigmoid\n",
    "    model5 = svm.SVC(kernel='sigmoid', C=SVM_C,gamma='scale') \n",
    "    model5.fit(x_train,y_train['direction'])\n",
    "    model5.score(x_train,y_train)\n",
    "    testing_predictions5  = model5.predict(x_test)\n",
    "    SVM_sigmoid = c_m_analysis(y_test,testing_predictions5,threshold)\n",
    "    \n",
    "    ## Neural Network\n",
    "    def sigmoid(x,deriv=False):\n",
    "        if deriv:\n",
    "            return sigmoid(x)*(1-sigmoid(x))\n",
    "        return 1/(1+np.exp(-x))\n",
    "    # one_layer for linear case\n",
    "    def net_lin(X,y,activation_function=sigmoid,passes=net_pass):\n",
    "        np.random.seed(1)\n",
    "        syn00 = 2*np.random.random((X.shape[1],1)) - 1    # weights\n",
    "        for i in range(0,passes): \n",
    "            level_00 = X\n",
    "            level_10 = activation_function(np.dot(level_00,syn00))  \n",
    "            level_10_error = y - level_10 #error  \n",
    "            level_10_delta = level_10_error * activation_function(level_10,True)   \n",
    "            syn00 += np.dot(level_00.T,level_10_delta)  # how much I need to change the weights\n",
    "        return syn00\n",
    "    final_weights = net_lin(x_train,y_train,sigmoid,net_pass)\n",
    "    level=sigmoid(np.dot(x_test,final_weights))\n",
    "    net_lin = c_m_analysis(y_test,level,np.mean(level))\n",
    "    \n",
    "    #multiple layers for non-linear case\n",
    "    def net_non_lin(X,y,activation_function=sigmoid,hidden_layer=1,passes=10):\n",
    "        import time\n",
    "        np.random.seed(1)\n",
    "        syn0 = 2*np.random.random((X.shape[1],hidden_layer)) - 1\n",
    "        syn1 = 2*np.random.random((hidden_layer,1)) - 1\n",
    "        for i in range(passes):\n",
    "            level_0 = X\n",
    "            level_1 = activation_function(np.dot(level_0,syn0))\n",
    "            level_2 = activation_function(np.dot(level_1,syn1))\n",
    "\n",
    "            level_2_error = y - level_2  # error term \n",
    "        # \n",
    "            level_2_delta = level_2_error*activation_function(level_2,deriv=True)\n",
    "\n",
    "            level_1_error = level_2_delta.dot(syn1.T)\n",
    "\n",
    "            level_1_delta = level_1_error * activation_function(level_1,deriv=True)\n",
    "\n",
    "            syn1 += level_1.T.dot(level_2_delta)\n",
    "            syn0 += level_0.T.dot(level_1_delta)\n",
    "   \n",
    "        return syn0,syn1\n",
    "    syn0,syn1 = net_non_lin(x_train,y_train,activation_function=sigmoid,hidden_layer=hid_layer,passes=net_pass)\n",
    "    level_0 = x_test\n",
    "    level_1 = sigmoid(np.dot(level_0,syn0))\n",
    "    level_2 = sigmoid(np.dot(level_1,syn1))\n",
    "    get_classification(level_2,threshold=0.1)\n",
    "    net_non_lin=c_m_analysis(y_test,level_2,np.mean(level_2))\n",
    "    \n",
    "    \n",
    "    return linear,decision_tree,random_forest,SVM_linear,SVM_sigmoid,net_lin,net_non_lin,importances,dt_graph\n",
    "\n",
    "\n"
   ]
  },
  {
   "cell_type": "markdown",
   "metadata": {},
   "source": [
    "<li> Valuation indicators"
   ]
  },
  {
   "cell_type": "code",
   "execution_count": 6,
   "metadata": {},
   "outputs": [],
   "source": [
    "def score(models):\n",
    "    model_names = ['Lnear Regerssion','Decision Tree','Random Forest','Linear SVM','Non-linear SVM(sigmoid)','Linear Neural Networks','Non-Linear Neural Networks']\n",
    "    score={'Precision':[],'True Negative Rate':[],'False_Positive_Rate':[],'f_score':[],'Accuracy':[]} \n",
    "    for i in range(7):\n",
    "        score['Precision'].append(models[i][0])\n",
    "        score['True Negative Rate'].append(models[i][1])\n",
    "        score['False_Positive_Rate'].append(models[i][2])\n",
    "        score['f_score'].append(models[i][3])\n",
    "        score['Accuracy'].append(models[i][4])\n",
    "    score = pd.DataFrame(score,index=model_names)\n",
    "    return score\n"
   ]
  },
  {
   "cell_type": "markdown",
   "metadata": {},
   "source": [
    "# Amazon"
   ]
  },
  {
   "cell_type": "code",
   "execution_count": 76,
   "metadata": {},
   "outputs": [],
   "source": [
    "stock,stock_weekly,reddit,nytimes = data_pre('AMZN.csv','am_reddit_emotions.csv','am_article_emotions.csv')\n",
    "x_dtrain1,x_dtrain2,y_dtrain,x_dtest1,x_dtest2,y_dtest,x_wtrain1,x_wtrain2,y_wtrain,x_wtest1,x_wtest2,y_wtest=train_test(stock,reddit,stock_weekly,nytimes)\n"
   ]
  },
  {
   "cell_type": "markdown",
   "metadata": {},
   "source": [
    "<li> Reddit (upvote+com_num+score+modified) "
   ]
  },
  {
   "cell_type": "code",
   "execution_count": 77,
   "metadata": {},
   "outputs": [
    {
     "data": {
      "text/html": [
       "<div>\n",
       "<style scoped>\n",
       "    .dataframe tbody tr th:only-of-type {\n",
       "        vertical-align: middle;\n",
       "    }\n",
       "\n",
       "    .dataframe tbody tr th {\n",
       "        vertical-align: top;\n",
       "    }\n",
       "\n",
       "    .dataframe thead th {\n",
       "        text-align: right;\n",
       "    }\n",
       "</style>\n",
       "<table border=\"1\" class=\"dataframe\">\n",
       "  <thead>\n",
       "    <tr style=\"text-align: right;\">\n",
       "      <th></th>\n",
       "      <th>Precision</th>\n",
       "      <th>True Negative Rate</th>\n",
       "      <th>False_Positive_Rate</th>\n",
       "      <th>f_score</th>\n",
       "      <th>Accuracy</th>\n",
       "    </tr>\n",
       "  </thead>\n",
       "  <tbody>\n",
       "    <tr>\n",
       "      <th>Lnear Regerssion</th>\n",
       "      <td>0.446154</td>\n",
       "      <td>0.852941</td>\n",
       "      <td>0.900</td>\n",
       "      <td>0.585859</td>\n",
       "      <td>0.445946</td>\n",
       "    </tr>\n",
       "    <tr>\n",
       "      <th>Decision Tree</th>\n",
       "      <td>0.469388</td>\n",
       "      <td>0.676471</td>\n",
       "      <td>0.650</td>\n",
       "      <td>0.554217</td>\n",
       "      <td>0.500000</td>\n",
       "    </tr>\n",
       "    <tr>\n",
       "      <th>Random Forest</th>\n",
       "      <td>0.547619</td>\n",
       "      <td>0.676471</td>\n",
       "      <td>0.475</td>\n",
       "      <td>0.605263</td>\n",
       "      <td>0.594595</td>\n",
       "    </tr>\n",
       "    <tr>\n",
       "      <th>Linear SVM</th>\n",
       "      <td>0.459459</td>\n",
       "      <td>1.000000</td>\n",
       "      <td>1.000</td>\n",
       "      <td>0.629630</td>\n",
       "      <td>0.459459</td>\n",
       "    </tr>\n",
       "    <tr>\n",
       "      <th>Non-linear SVM(sigmoid)</th>\n",
       "      <td>0.500000</td>\n",
       "      <td>0.382353</td>\n",
       "      <td>0.325</td>\n",
       "      <td>0.433333</td>\n",
       "      <td>0.540541</td>\n",
       "    </tr>\n",
       "    <tr>\n",
       "      <th>Linear Neural Networks</th>\n",
       "      <td>1.000000</td>\n",
       "      <td>0.029412</td>\n",
       "      <td>0.000</td>\n",
       "      <td>0.057143</td>\n",
       "      <td>0.554054</td>\n",
       "    </tr>\n",
       "    <tr>\n",
       "      <th>Non-Linear Neural Networks</th>\n",
       "      <td>0.750000</td>\n",
       "      <td>0.176471</td>\n",
       "      <td>0.050</td>\n",
       "      <td>0.285714</td>\n",
       "      <td>0.594595</td>\n",
       "    </tr>\n",
       "  </tbody>\n",
       "</table>\n",
       "</div>"
      ],
      "text/plain": [
       "                            Precision  True Negative Rate  \\\n",
       "Lnear Regerssion             0.446154            0.852941   \n",
       "Decision Tree                0.469388            0.676471   \n",
       "Random Forest                0.547619            0.676471   \n",
       "Linear SVM                   0.459459            1.000000   \n",
       "Non-linear SVM(sigmoid)      0.500000            0.382353   \n",
       "Linear Neural Networks       1.000000            0.029412   \n",
       "Non-Linear Neural Networks   0.750000            0.176471   \n",
       "\n",
       "                            False_Positive_Rate   f_score  Accuracy  \n",
       "Lnear Regerssion                          0.900  0.585859  0.445946  \n",
       "Decision Tree                             0.650  0.554217  0.500000  \n",
       "Random Forest                             0.475  0.605263  0.594595  \n",
       "Linear SVM                                1.000  0.629630  0.459459  \n",
       "Non-linear SVM(sigmoid)                   0.325  0.433333  0.540541  \n",
       "Linear Neural Networks                    0.000  0.057143  0.554054  \n",
       "Non-Linear Neural Networks                0.050  0.285714  0.594595  "
      ]
     },
     "execution_count": 77,
     "metadata": {},
     "output_type": "execute_result"
    }
   ],
   "source": [
    "daily_reddit_mod=ml_modle(x_dtrain1,y_dtrain,x_dtest1,y_dtest,tree_max_depth=4,threshold=0,SVM_C=1,net_pass=10,hid_layer=2)\n",
    "score(daily_reddit_mod)"
   ]
  },
  {
   "cell_type": "code",
   "execution_count": 29,
   "metadata": {},
   "outputs": [],
   "source": [
    "#Image(daily_reddit_mod[8].create_png())"
   ]
  },
  {
   "cell_type": "code",
   "execution_count": 78,
   "metadata": {},
   "outputs": [
    {
     "data": {
      "image/png": "[encoded data removed]",
      "text/plain": [
       "<Figure size 360x144 with 1 Axes>"
      ]
     },
     "metadata": {
      "needs_background": "light"
     },
     "output_type": "display_data"
    }
   ],
   "source": [
    "importances=daily_reddit_mod[7]\n",
    "indices = np.argsort(importances)\n",
    "plt.figure(figsize=(5,2))\n",
    "feature_names = [key for key in x_dtrain1 if not key == 'direction']\n",
    "plt.title('Feature Importances')\n",
    "plt.barh(range(len(indices)), importances[indices], color='b', align='center')\n",
    "plt.yticks(range(len(indices)),feature_names)\n",
    "plt.xlabel('Relative Importance')\n",
    "plt.show()"
   ]
  },
  {
   "cell_type": "markdown",
   "metadata": {},
   "source": [
    " <li> Reddit (upvote+com_num+score+all emotions) "
   ]
  },
  {
   "cell_type": "code",
   "execution_count": 80,
   "metadata": {},
   "outputs": [
    {
     "data": {
      "text/html": [
       "<div>\n",
       "<style scoped>\n",
       "    .dataframe tbody tr th:only-of-type {\n",
       "        vertical-align: middle;\n",
       "    }\n",
       "\n",
       "    .dataframe tbody tr th {\n",
       "        vertical-align: top;\n",
       "    }\n",
       "\n",
       "    .dataframe thead th {\n",
       "        text-align: right;\n",
       "    }\n",
       "</style>\n",
       "<table border=\"1\" class=\"dataframe\">\n",
       "  <thead>\n",
       "    <tr style=\"text-align: right;\">\n",
       "      <th></th>\n",
       "      <th>Precision</th>\n",
       "      <th>True Negative Rate</th>\n",
       "      <th>False_Positive_Rate</th>\n",
       "      <th>f_score</th>\n",
       "      <th>Accuracy</th>\n",
       "    </tr>\n",
       "  </thead>\n",
       "  <tbody>\n",
       "    <tr>\n",
       "      <th>Lnear Regerssion</th>\n",
       "      <td>0.448980</td>\n",
       "      <td>0.647059</td>\n",
       "      <td>0.675</td>\n",
       "      <td>0.530120</td>\n",
       "      <td>0.472973</td>\n",
       "    </tr>\n",
       "    <tr>\n",
       "      <th>Decision Tree</th>\n",
       "      <td>0.416667</td>\n",
       "      <td>0.441176</td>\n",
       "      <td>0.525</td>\n",
       "      <td>0.428571</td>\n",
       "      <td>0.459459</td>\n",
       "    </tr>\n",
       "    <tr>\n",
       "      <th>Random Forest</th>\n",
       "      <td>0.550000</td>\n",
       "      <td>0.647059</td>\n",
       "      <td>0.450</td>\n",
       "      <td>0.594595</td>\n",
       "      <td>0.594595</td>\n",
       "    </tr>\n",
       "    <tr>\n",
       "      <th>Linear SVM</th>\n",
       "      <td>0.459459</td>\n",
       "      <td>1.000000</td>\n",
       "      <td>1.000</td>\n",
       "      <td>0.629630</td>\n",
       "      <td>0.459459</td>\n",
       "    </tr>\n",
       "    <tr>\n",
       "      <th>Non-linear SVM(sigmoid)</th>\n",
       "      <td>0.413793</td>\n",
       "      <td>0.705882</td>\n",
       "      <td>0.850</td>\n",
       "      <td>0.521739</td>\n",
       "      <td>0.405405</td>\n",
       "    </tr>\n",
       "    <tr>\n",
       "      <th>Linear Neural Networks</th>\n",
       "      <td>0.800000</td>\n",
       "      <td>0.117647</td>\n",
       "      <td>0.025</td>\n",
       "      <td>0.205128</td>\n",
       "      <td>0.581081</td>\n",
       "    </tr>\n",
       "    <tr>\n",
       "      <th>Non-Linear Neural Networks</th>\n",
       "      <td>1.000000</td>\n",
       "      <td>0.029412</td>\n",
       "      <td>0.000</td>\n",
       "      <td>0.057143</td>\n",
       "      <td>0.554054</td>\n",
       "    </tr>\n",
       "  </tbody>\n",
       "</table>\n",
       "</div>"
      ],
      "text/plain": [
       "                            Precision  True Negative Rate  \\\n",
       "Lnear Regerssion             0.448980            0.647059   \n",
       "Decision Tree                0.416667            0.441176   \n",
       "Random Forest                0.550000            0.647059   \n",
       "Linear SVM                   0.459459            1.000000   \n",
       "Non-linear SVM(sigmoid)      0.413793            0.705882   \n",
       "Linear Neural Networks       0.800000            0.117647   \n",
       "Non-Linear Neural Networks   1.000000            0.029412   \n",
       "\n",
       "                            False_Positive_Rate   f_score  Accuracy  \n",
       "Lnear Regerssion                          0.675  0.530120  0.472973  \n",
       "Decision Tree                             0.525  0.428571  0.459459  \n",
       "Random Forest                             0.450  0.594595  0.594595  \n",
       "Linear SVM                                1.000  0.629630  0.459459  \n",
       "Non-linear SVM(sigmoid)                   0.850  0.521739  0.405405  \n",
       "Linear Neural Networks                    0.025  0.205128  0.581081  \n",
       "Non-Linear Neural Networks                0.000  0.057143  0.554054  "
      ]
     },
     "execution_count": 80,
     "metadata": {},
     "output_type": "execute_result"
    }
   ],
   "source": [
    "daily_reddit_all=ml_modle(x_dtrain2,y_dtrain,x_dtest2,y_dtest,tree_max_depth=3,threshold=0,SVM_C=1,net_pass=100,hid_layer=4)\n",
    "score(daily_reddit_all)"
   ]
  },
  {
   "cell_type": "code",
   "execution_count": 41,
   "metadata": {},
   "outputs": [],
   "source": [
    "#Image(daily_reddit_all[8].create_png())"
   ]
  },
  {
   "cell_type": "code",
   "execution_count": 81,
   "metadata": {},
   "outputs": [
    {
     "data": {
      "image/png": "[encoded data removed]",
      "text/plain": [
       "<Figure size 360x288 with 1 Axes>"
      ]
     },
     "metadata": {
      "needs_background": "light"
     },
     "output_type": "display_data"
    }
   ],
   "source": [
    "importances=daily_reddit_all[7]\n",
    "indices = np.argsort(importances)\n",
    "plt.figure(figsize=(5,4))\n",
    "feature_names = [key for key in x_dtrain2 if not key == 'direction']\n",
    "plt.title('Feature Importances')\n",
    "plt.barh(range(len(indices)), importances[indices], color='b', align='center')\n",
    "plt.yticks(range(len(indices)),feature_names)\n",
    "plt.xlabel('Relative Importance')\n",
    "plt.show()"
   ]
  },
  {
   "cell_type": "markdown",
   "metadata": {},
   "source": [
    " <li> NYtimes (modified) "
   ]
  },
  {
   "cell_type": "code",
   "execution_count": 84,
   "metadata": {},
   "outputs": [
    {
     "data": {
      "text/html": [
       "<div>\n",
       "<style scoped>\n",
       "    .dataframe tbody tr th:only-of-type {\n",
       "        vertical-align: middle;\n",
       "    }\n",
       "\n",
       "    .dataframe tbody tr th {\n",
       "        vertical-align: top;\n",
       "    }\n",
       "\n",
       "    .dataframe thead th {\n",
       "        text-align: right;\n",
       "    }\n",
       "</style>\n",
       "<table border=\"1\" class=\"dataframe\">\n",
       "  <thead>\n",
       "    <tr style=\"text-align: right;\">\n",
       "      <th></th>\n",
       "      <th>Precision</th>\n",
       "      <th>True Negative Rate</th>\n",
       "      <th>False_Positive_Rate</th>\n",
       "      <th>f_score</th>\n",
       "      <th>Accuracy</th>\n",
       "    </tr>\n",
       "  </thead>\n",
       "  <tbody>\n",
       "    <tr>\n",
       "      <th>Lnear Regerssion</th>\n",
       "      <td>0.538462</td>\n",
       "      <td>0.259259</td>\n",
       "      <td>0.315789</td>\n",
       "      <td>0.350000</td>\n",
       "      <td>0.434783</td>\n",
       "    </tr>\n",
       "    <tr>\n",
       "      <th>Decision Tree</th>\n",
       "      <td>0.653846</td>\n",
       "      <td>0.629630</td>\n",
       "      <td>0.473684</td>\n",
       "      <td>0.641509</td>\n",
       "      <td>0.586957</td>\n",
       "    </tr>\n",
       "    <tr>\n",
       "      <th>Random Forest</th>\n",
       "      <td>0.481481</td>\n",
       "      <td>0.481481</td>\n",
       "      <td>0.736842</td>\n",
       "      <td>0.481481</td>\n",
       "      <td>0.391304</td>\n",
       "    </tr>\n",
       "    <tr>\n",
       "      <th>Linear SVM</th>\n",
       "      <td>0.586957</td>\n",
       "      <td>1.000000</td>\n",
       "      <td>1.000000</td>\n",
       "      <td>0.739726</td>\n",
       "      <td>0.586957</td>\n",
       "    </tr>\n",
       "    <tr>\n",
       "      <th>Non-linear SVM(sigmoid)</th>\n",
       "      <td>0.500000</td>\n",
       "      <td>0.370370</td>\n",
       "      <td>0.526316</td>\n",
       "      <td>0.425532</td>\n",
       "      <td>0.413043</td>\n",
       "    </tr>\n",
       "    <tr>\n",
       "      <th>Linear Neural Networks</th>\n",
       "      <td>0.521739</td>\n",
       "      <td>0.444444</td>\n",
       "      <td>0.578947</td>\n",
       "      <td>0.480000</td>\n",
       "      <td>0.434783</td>\n",
       "    </tr>\n",
       "    <tr>\n",
       "      <th>Non-Linear Neural Networks</th>\n",
       "      <td>0.608696</td>\n",
       "      <td>0.518519</td>\n",
       "      <td>0.473684</td>\n",
       "      <td>0.560000</td>\n",
       "      <td>0.521739</td>\n",
       "    </tr>\n",
       "  </tbody>\n",
       "</table>\n",
       "</div>"
      ],
      "text/plain": [
       "                            Precision  True Negative Rate  \\\n",
       "Lnear Regerssion             0.538462            0.259259   \n",
       "Decision Tree                0.653846            0.629630   \n",
       "Random Forest                0.481481            0.481481   \n",
       "Linear SVM                   0.586957            1.000000   \n",
       "Non-linear SVM(sigmoid)      0.500000            0.370370   \n",
       "Linear Neural Networks       0.521739            0.444444   \n",
       "Non-Linear Neural Networks   0.608696            0.518519   \n",
       "\n",
       "                            False_Positive_Rate   f_score  Accuracy  \n",
       "Lnear Regerssion                       0.315789  0.350000  0.434783  \n",
       "Decision Tree                          0.473684  0.641509  0.586957  \n",
       "Random Forest                          0.736842  0.481481  0.391304  \n",
       "Linear SVM                             1.000000  0.739726  0.586957  \n",
       "Non-linear SVM(sigmoid)                0.526316  0.425532  0.413043  \n",
       "Linear Neural Networks                 0.578947  0.480000  0.434783  \n",
       "Non-Linear Neural Networks             0.473684  0.560000  0.521739  "
      ]
     },
     "execution_count": 84,
     "metadata": {},
     "output_type": "execute_result"
    }
   ],
   "source": [
    "weekly_nyt_mod=ml_modle(x_wtrain1,y_wtrain,x_wtest1,y_wtest,tree_max_depth=3,threshold=0,SVM_C=1,net_pass=100,hid_layer=2)\n",
    "score(weekly_nyt_mod)"
   ]
  },
  {
   "cell_type": "code",
   "execution_count": 85,
   "metadata": {},
   "outputs": [
    {
     "data": {
      "image/png": "[encoded data removed]",
      "text/plain": [
       "<Figure size 360x72 with 1 Axes>"
      ]
     },
     "metadata": {
      "needs_background": "light"
     },
     "output_type": "display_data"
    }
   ],
   "source": [
    "importances=weekly_nyt_mod[7]\n",
    "indices = np.argsort(importances)\n",
    "plt.figure(figsize=(5,1))\n",
    "feature_names = [key for key in x_wtrain1 if not key == 'direction']\n",
    "plt.title('Feature Importances')\n",
    "plt.barh(range(len(indices)), importances[indices], color='b', align='center')\n",
    "plt.yticks(range(len(indices)),feature_names)\n",
    "plt.xlabel('Relative Importance')\n",
    "plt.show()"
   ]
  },
  {
   "cell_type": "markdown",
   "metadata": {},
   "source": [
    " <li> NYtimes (all emotions) "
   ]
  },
  {
   "cell_type": "code",
   "execution_count": 93,
   "metadata": {},
   "outputs": [
    {
     "data": {
      "text/html": [
       "<div>\n",
       "<style scoped>\n",
       "    .dataframe tbody tr th:only-of-type {\n",
       "        vertical-align: middle;\n",
       "    }\n",
       "\n",
       "    .dataframe tbody tr th {\n",
       "        vertical-align: top;\n",
       "    }\n",
       "\n",
       "    .dataframe thead th {\n",
       "        text-align: right;\n",
       "    }\n",
       "</style>\n",
       "<table border=\"1\" class=\"dataframe\">\n",
       "  <thead>\n",
       "    <tr style=\"text-align: right;\">\n",
       "      <th></th>\n",
       "      <th>Precision</th>\n",
       "      <th>True Negative Rate</th>\n",
       "      <th>False_Positive_Rate</th>\n",
       "      <th>f_score</th>\n",
       "      <th>Accuracy</th>\n",
       "    </tr>\n",
       "  </thead>\n",
       "  <tbody>\n",
       "    <tr>\n",
       "      <th>Lnear Regerssion</th>\n",
       "      <td>0.500000</td>\n",
       "      <td>0.555556</td>\n",
       "      <td>0.789474</td>\n",
       "      <td>0.526316</td>\n",
       "      <td>0.413043</td>\n",
       "    </tr>\n",
       "    <tr>\n",
       "      <th>Decision Tree</th>\n",
       "      <td>0.547619</td>\n",
       "      <td>0.851852</td>\n",
       "      <td>1.000000</td>\n",
       "      <td>0.666667</td>\n",
       "      <td>0.500000</td>\n",
       "    </tr>\n",
       "    <tr>\n",
       "      <th>Random Forest</th>\n",
       "      <td>0.535714</td>\n",
       "      <td>0.555556</td>\n",
       "      <td>0.684211</td>\n",
       "      <td>0.545455</td>\n",
       "      <td>0.456522</td>\n",
       "    </tr>\n",
       "    <tr>\n",
       "      <th>Linear SVM</th>\n",
       "      <td>0.586957</td>\n",
       "      <td>1.000000</td>\n",
       "      <td>1.000000</td>\n",
       "      <td>0.739726</td>\n",
       "      <td>0.586957</td>\n",
       "    </tr>\n",
       "    <tr>\n",
       "      <th>Non-linear SVM(sigmoid)</th>\n",
       "      <td>0.444444</td>\n",
       "      <td>0.296296</td>\n",
       "      <td>0.526316</td>\n",
       "      <td>0.355556</td>\n",
       "      <td>0.369565</td>\n",
       "    </tr>\n",
       "    <tr>\n",
       "      <th>Linear Neural Networks</th>\n",
       "      <td>0.476190</td>\n",
       "      <td>0.370370</td>\n",
       "      <td>0.578947</td>\n",
       "      <td>0.416667</td>\n",
       "      <td>0.391304</td>\n",
       "    </tr>\n",
       "    <tr>\n",
       "      <th>Non-Linear Neural Networks</th>\n",
       "      <td>0.500000</td>\n",
       "      <td>0.148148</td>\n",
       "      <td>0.210526</td>\n",
       "      <td>0.228571</td>\n",
       "      <td>0.413043</td>\n",
       "    </tr>\n",
       "  </tbody>\n",
       "</table>\n",
       "</div>"
      ],
      "text/plain": [
       "                            Precision  True Negative Rate  \\\n",
       "Lnear Regerssion             0.500000            0.555556   \n",
       "Decision Tree                0.547619            0.851852   \n",
       "Random Forest                0.535714            0.555556   \n",
       "Linear SVM                   0.586957            1.000000   \n",
       "Non-linear SVM(sigmoid)      0.444444            0.296296   \n",
       "Linear Neural Networks       0.476190            0.370370   \n",
       "Non-Linear Neural Networks   0.500000            0.148148   \n",
       "\n",
       "                            False_Positive_Rate   f_score  Accuracy  \n",
       "Lnear Regerssion                       0.789474  0.526316  0.413043  \n",
       "Decision Tree                          1.000000  0.666667  0.500000  \n",
       "Random Forest                          0.684211  0.545455  0.456522  \n",
       "Linear SVM                             1.000000  0.739726  0.586957  \n",
       "Non-linear SVM(sigmoid)                0.526316  0.355556  0.369565  \n",
       "Linear Neural Networks                 0.578947  0.416667  0.391304  \n",
       "Non-Linear Neural Networks             0.210526  0.228571  0.413043  "
      ]
     },
     "execution_count": 93,
     "metadata": {},
     "output_type": "execute_result"
    }
   ],
   "source": [
    "weekly_nyt_all=ml_modle(x_wtrain2,y_wtrain,x_wtest2,y_wtest,tree_max_depth=3,threshold=0,SVM_C=1,net_pass=100,hid_layer=3)\n",
    "score(weekly_nyt_all)"
   ]
  },
  {
   "cell_type": "code",
   "execution_count": 92,
   "metadata": {},
   "outputs": [
    {
     "data": {
      "image/png": "[encoded data removed]",
      "text/plain": [
       "<Figure size 360x288 with 1 Axes>"
      ]
     },
     "metadata": {
      "needs_background": "light"
     },
     "output_type": "display_data"
    }
   ],
   "source": [
    "importances=weekly_nyt_all[7]\n",
    "indices = np.argsort(importances)\n",
    "plt.figure(figsize=(5,4))\n",
    "feature_names = [key for key in x_wtrain2 if not key == 'direction']\n",
    "plt.title('Feature Importances')\n",
    "plt.barh(range(len(indices)), importances[indices], color='b', align='center')\n",
    "plt.yticks(range(len(indices)),feature_names)\n",
    "plt.xlabel('Relative Importance')\n",
    "plt.show()"
   ]
  },
  {
   "cell_type": "markdown",
   "metadata": {},
   "source": [
    "# Google"
   ]
  },
  {
   "cell_type": "code",
   "execution_count": 94,
   "metadata": {},
   "outputs": [],
   "source": [
    "stock,stock_weekly,reddit,nytimes = data_pre('GOOG.csv','gg_reddit_emotions.csv','gg_article_emotions.csv')\n",
    "x_dtrain1,x_dtrain2,y_dtrain,x_dtest1,x_dtest2,y_dtest,x_wtrain1,x_wtrain2,y_wtrain,x_wtest1,x_wtest2,y_wtest=train_test(stock,reddit,stock_weekly,nytimes)"
   ]
  },
  {
   "cell_type": "markdown",
   "metadata": {},
   "source": [
    "<li> Reddit (upvote+com_num+score+modified) "
   ]
  },
  {
   "cell_type": "code",
   "execution_count": 63,
   "metadata": {},
   "outputs": [
    {
     "data": {
      "text/html": [
       "<div>\n",
       "<style scoped>\n",
       "    .dataframe tbody tr th:only-of-type {\n",
       "        vertical-align: middle;\n",
       "    }\n",
       "\n",
       "    .dataframe tbody tr th {\n",
       "        vertical-align: top;\n",
       "    }\n",
       "\n",
       "    .dataframe thead th {\n",
       "        text-align: right;\n",
       "    }\n",
       "</style>\n",
       "<table border=\"1\" class=\"dataframe\">\n",
       "  <thead>\n",
       "    <tr style=\"text-align: right;\">\n",
       "      <th></th>\n",
       "      <th>Precision</th>\n",
       "      <th>True Negative Rate</th>\n",
       "      <th>False_Positive_Rate</th>\n",
       "      <th>f_score</th>\n",
       "      <th>Accuracy</th>\n",
       "    </tr>\n",
       "  </thead>\n",
       "  <tbody>\n",
       "    <tr>\n",
       "      <th>Lnear Regerssion</th>\n",
       "      <td>0.487805</td>\n",
       "      <td>0.606061</td>\n",
       "      <td>0.617647</td>\n",
       "      <td>0.540541</td>\n",
       "      <td>0.492537</td>\n",
       "    </tr>\n",
       "    <tr>\n",
       "      <th>Decision Tree</th>\n",
       "      <td>0.521739</td>\n",
       "      <td>0.727273</td>\n",
       "      <td>0.647059</td>\n",
       "      <td>0.607595</td>\n",
       "      <td>0.537313</td>\n",
       "    </tr>\n",
       "    <tr>\n",
       "      <th>Random Forest</th>\n",
       "      <td>0.552632</td>\n",
       "      <td>0.636364</td>\n",
       "      <td>0.500000</td>\n",
       "      <td>0.591549</td>\n",
       "      <td>0.567164</td>\n",
       "    </tr>\n",
       "    <tr>\n",
       "      <th>Linear SVM</th>\n",
       "      <td>0.492537</td>\n",
       "      <td>1.000000</td>\n",
       "      <td>1.000000</td>\n",
       "      <td>0.660000</td>\n",
       "      <td>0.492537</td>\n",
       "    </tr>\n",
       "    <tr>\n",
       "      <th>Non-linear SVM(sigmoid)</th>\n",
       "      <td>0.492537</td>\n",
       "      <td>1.000000</td>\n",
       "      <td>1.000000</td>\n",
       "      <td>0.660000</td>\n",
       "      <td>0.492537</td>\n",
       "    </tr>\n",
       "    <tr>\n",
       "      <th>Linear Neural Networks</th>\n",
       "      <td>0.625000</td>\n",
       "      <td>0.151515</td>\n",
       "      <td>0.088235</td>\n",
       "      <td>0.243902</td>\n",
       "      <td>0.537313</td>\n",
       "    </tr>\n",
       "    <tr>\n",
       "      <th>Non-Linear Neural Networks</th>\n",
       "      <td>1.000000</td>\n",
       "      <td>0.090909</td>\n",
       "      <td>0.000000</td>\n",
       "      <td>0.166667</td>\n",
       "      <td>0.552239</td>\n",
       "    </tr>\n",
       "  </tbody>\n",
       "</table>\n",
       "</div>"
      ],
      "text/plain": [
       "                            Precision  True Negative Rate  \\\n",
       "Lnear Regerssion             0.487805            0.606061   \n",
       "Decision Tree                0.521739            0.727273   \n",
       "Random Forest                0.552632            0.636364   \n",
       "Linear SVM                   0.492537            1.000000   \n",
       "Non-linear SVM(sigmoid)      0.492537            1.000000   \n",
       "Linear Neural Networks       0.625000            0.151515   \n",
       "Non-Linear Neural Networks   1.000000            0.090909   \n",
       "\n",
       "                            False_Positive_Rate   f_score  Accuracy  \n",
       "Lnear Regerssion                       0.617647  0.540541  0.492537  \n",
       "Decision Tree                          0.647059  0.607595  0.537313  \n",
       "Random Forest                          0.500000  0.591549  0.567164  \n",
       "Linear SVM                             1.000000  0.660000  0.492537  \n",
       "Non-linear SVM(sigmoid)                1.000000  0.660000  0.492537  \n",
       "Linear Neural Networks                 0.088235  0.243902  0.537313  \n",
       "Non-Linear Neural Networks             0.000000  0.166667  0.552239  "
      ]
     },
     "execution_count": 63,
     "metadata": {},
     "output_type": "execute_result"
    }
   ],
   "source": [
    "daily_reddit_mod=ml_modle(x_dtrain1,y_dtrain,x_dtest1,y_dtest,tree_max_depth=4,threshold=0,SVM_C=1,net_pass=100,hid_layer=2)\n",
    "score(daily_reddit_mod)"
   ]
  },
  {
   "cell_type": "code",
   "execution_count": 64,
   "metadata": {},
   "outputs": [
    {
     "data": {
      "image/png": "[encoded data removed]",
      "text/plain": [
       "<Figure size 360x144 with 1 Axes>"
      ]
     },
     "metadata": {
      "needs_background": "light"
     },
     "output_type": "display_data"
    }
   ],
   "source": [
    "importances=daily_reddit_mod[7]\n",
    "indices = np.argsort(importances)\n",
    "plt.figure(figsize=(5,2))\n",
    "feature_names = [key for key in x_dtrain1 if not key == 'direction']\n",
    "plt.title('Feature Importances')\n",
    "plt.barh(range(len(indices)), importances[indices], color='b', align='center')\n",
    "plt.yticks(range(len(indices)),feature_names)\n",
    "plt.xlabel('Relative Importance')\n",
    "plt.show()"
   ]
  },
  {
   "cell_type": "markdown",
   "metadata": {},
   "source": [
    "<li> Reddit (upvote+com_num+score+all emotions) "
   ]
  },
  {
   "cell_type": "code",
   "execution_count": 67,
   "metadata": {},
   "outputs": [
    {
     "data": {
      "text/html": [
       "<div>\n",
       "<style scoped>\n",
       "    .dataframe tbody tr th:only-of-type {\n",
       "        vertical-align: middle;\n",
       "    }\n",
       "\n",
       "    .dataframe tbody tr th {\n",
       "        vertical-align: top;\n",
       "    }\n",
       "\n",
       "    .dataframe thead th {\n",
       "        text-align: right;\n",
       "    }\n",
       "</style>\n",
       "<table border=\"1\" class=\"dataframe\">\n",
       "  <thead>\n",
       "    <tr style=\"text-align: right;\">\n",
       "      <th></th>\n",
       "      <th>Precision</th>\n",
       "      <th>True Negative Rate</th>\n",
       "      <th>False_Positive_Rate</th>\n",
       "      <th>f_score</th>\n",
       "      <th>Accuracy</th>\n",
       "    </tr>\n",
       "  </thead>\n",
       "  <tbody>\n",
       "    <tr>\n",
       "      <th>Lnear Regerssion</th>\n",
       "      <td>0.547619</td>\n",
       "      <td>0.696970</td>\n",
       "      <td>0.558824</td>\n",
       "      <td>0.613333</td>\n",
       "      <td>0.567164</td>\n",
       "    </tr>\n",
       "    <tr>\n",
       "      <th>Decision Tree</th>\n",
       "      <td>0.466667</td>\n",
       "      <td>0.424242</td>\n",
       "      <td>0.470588</td>\n",
       "      <td>0.444444</td>\n",
       "      <td>0.477612</td>\n",
       "    </tr>\n",
       "    <tr>\n",
       "      <th>Random Forest</th>\n",
       "      <td>0.529412</td>\n",
       "      <td>0.545455</td>\n",
       "      <td>0.470588</td>\n",
       "      <td>0.537313</td>\n",
       "      <td>0.537313</td>\n",
       "    </tr>\n",
       "    <tr>\n",
       "      <th>Linear SVM</th>\n",
       "      <td>0.492537</td>\n",
       "      <td>1.000000</td>\n",
       "      <td>1.000000</td>\n",
       "      <td>0.660000</td>\n",
       "      <td>0.492537</td>\n",
       "    </tr>\n",
       "    <tr>\n",
       "      <th>Non-linear SVM(sigmoid)</th>\n",
       "      <td>0.492537</td>\n",
       "      <td>1.000000</td>\n",
       "      <td>1.000000</td>\n",
       "      <td>0.660000</td>\n",
       "      <td>0.492537</td>\n",
       "    </tr>\n",
       "    <tr>\n",
       "      <th>Linear Neural Networks</th>\n",
       "      <td>0.625000</td>\n",
       "      <td>0.151515</td>\n",
       "      <td>0.088235</td>\n",
       "      <td>0.243902</td>\n",
       "      <td>0.537313</td>\n",
       "    </tr>\n",
       "    <tr>\n",
       "      <th>Non-Linear Neural Networks</th>\n",
       "      <td>1.000000</td>\n",
       "      <td>0.090909</td>\n",
       "      <td>0.000000</td>\n",
       "      <td>0.166667</td>\n",
       "      <td>0.552239</td>\n",
       "    </tr>\n",
       "  </tbody>\n",
       "</table>\n",
       "</div>"
      ],
      "text/plain": [
       "                            Precision  True Negative Rate  \\\n",
       "Lnear Regerssion             0.547619            0.696970   \n",
       "Decision Tree                0.466667            0.424242   \n",
       "Random Forest                0.529412            0.545455   \n",
       "Linear SVM                   0.492537            1.000000   \n",
       "Non-linear SVM(sigmoid)      0.492537            1.000000   \n",
       "Linear Neural Networks       0.625000            0.151515   \n",
       "Non-Linear Neural Networks   1.000000            0.090909   \n",
       "\n",
       "                            False_Positive_Rate   f_score  Accuracy  \n",
       "Lnear Regerssion                       0.558824  0.613333  0.567164  \n",
       "Decision Tree                          0.470588  0.444444  0.477612  \n",
       "Random Forest                          0.470588  0.537313  0.537313  \n",
       "Linear SVM                             1.000000  0.660000  0.492537  \n",
       "Non-linear SVM(sigmoid)                1.000000  0.660000  0.492537  \n",
       "Linear Neural Networks                 0.088235  0.243902  0.537313  \n",
       "Non-Linear Neural Networks             0.000000  0.166667  0.552239  "
      ]
     },
     "execution_count": 67,
     "metadata": {},
     "output_type": "execute_result"
    }
   ],
   "source": [
    "daily_reddit_all=ml_modle(x_dtrain2,y_dtrain,x_dtest2,y_dtest,tree_max_depth=5,threshold=0,SVM_C=1,net_pass=100,hid_layer=4)\n",
    "score(daily_reddit_all)"
   ]
  },
  {
   "cell_type": "code",
   "execution_count": 68,
   "metadata": {},
   "outputs": [
    {
     "data": {
      "image/png": "[encoded data removed]",
      "text/plain": [
       "<Figure size 360x288 with 1 Axes>"
      ]
     },
     "metadata": {
      "needs_background": "light"
     },
     "output_type": "display_data"
    }
   ],
   "source": [
    "importances=daily_reddit_all[7]\n",
    "indices = np.argsort(importances)\n",
    "plt.figure(figsize=(5,4))\n",
    "feature_names = [key for key in x_dtrain2 if not key == 'direction']\n",
    "plt.title('Feature Importances')\n",
    "plt.barh(range(len(indices)), importances[indices], color='b', align='center')\n",
    "plt.yticks(range(len(indices)),feature_names)\n",
    "plt.xlabel('Relative Importance')\n",
    "plt.show()"
   ]
  },
  {
   "cell_type": "markdown",
   "metadata": {},
   "source": [
    "<li> NYtimes (modified) "
   ]
  },
  {
   "cell_type": "code",
   "execution_count": 71,
   "metadata": {},
   "outputs": [
    {
     "data": {
      "text/html": [
       "<div>\n",
       "<style scoped>\n",
       "    .dataframe tbody tr th:only-of-type {\n",
       "        vertical-align: middle;\n",
       "    }\n",
       "\n",
       "    .dataframe tbody tr th {\n",
       "        vertical-align: top;\n",
       "    }\n",
       "\n",
       "    .dataframe thead th {\n",
       "        text-align: right;\n",
       "    }\n",
       "</style>\n",
       "<table border=\"1\" class=\"dataframe\">\n",
       "  <thead>\n",
       "    <tr style=\"text-align: right;\">\n",
       "      <th></th>\n",
       "      <th>Precision</th>\n",
       "      <th>True Negative Rate</th>\n",
       "      <th>False_Positive_Rate</th>\n",
       "      <th>f_score</th>\n",
       "      <th>Accuracy</th>\n",
       "    </tr>\n",
       "  </thead>\n",
       "  <tbody>\n",
       "    <tr>\n",
       "      <th>Lnear Regerssion</th>\n",
       "      <td>0.487805</td>\n",
       "      <td>0.769231</td>\n",
       "      <td>0.750000</td>\n",
       "      <td>0.597015</td>\n",
       "      <td>0.500000</td>\n",
       "    </tr>\n",
       "    <tr>\n",
       "      <th>Decision Tree</th>\n",
       "      <td>0.545455</td>\n",
       "      <td>0.230769</td>\n",
       "      <td>0.178571</td>\n",
       "      <td>0.324324</td>\n",
       "      <td>0.537037</td>\n",
       "    </tr>\n",
       "    <tr>\n",
       "      <th>Random Forest</th>\n",
       "      <td>0.370370</td>\n",
       "      <td>0.384615</td>\n",
       "      <td>0.607143</td>\n",
       "      <td>0.377358</td>\n",
       "      <td>0.388889</td>\n",
       "    </tr>\n",
       "    <tr>\n",
       "      <th>Linear SVM</th>\n",
       "      <td>0.481481</td>\n",
       "      <td>1.000000</td>\n",
       "      <td>1.000000</td>\n",
       "      <td>0.650000</td>\n",
       "      <td>0.481481</td>\n",
       "    </tr>\n",
       "    <tr>\n",
       "      <th>Non-linear SVM(sigmoid)</th>\n",
       "      <td>0.440000</td>\n",
       "      <td>0.423077</td>\n",
       "      <td>0.500000</td>\n",
       "      <td>0.431373</td>\n",
       "      <td>0.462963</td>\n",
       "    </tr>\n",
       "    <tr>\n",
       "      <th>Linear Neural Networks</th>\n",
       "      <td>0.531250</td>\n",
       "      <td>0.653846</td>\n",
       "      <td>0.535714</td>\n",
       "      <td>0.586207</td>\n",
       "      <td>0.555556</td>\n",
       "    </tr>\n",
       "    <tr>\n",
       "      <th>Non-Linear Neural Networks</th>\n",
       "      <td>0.566667</td>\n",
       "      <td>0.653846</td>\n",
       "      <td>0.464286</td>\n",
       "      <td>0.607143</td>\n",
       "      <td>0.592593</td>\n",
       "    </tr>\n",
       "  </tbody>\n",
       "</table>\n",
       "</div>"
      ],
      "text/plain": [
       "                            Precision  True Negative Rate  \\\n",
       "Lnear Regerssion             0.487805            0.769231   \n",
       "Decision Tree                0.545455            0.230769   \n",
       "Random Forest                0.370370            0.384615   \n",
       "Linear SVM                   0.481481            1.000000   \n",
       "Non-linear SVM(sigmoid)      0.440000            0.423077   \n",
       "Linear Neural Networks       0.531250            0.653846   \n",
       "Non-Linear Neural Networks   0.566667            0.653846   \n",
       "\n",
       "                            False_Positive_Rate   f_score  Accuracy  \n",
       "Lnear Regerssion                       0.750000  0.597015  0.500000  \n",
       "Decision Tree                          0.178571  0.324324  0.537037  \n",
       "Random Forest                          0.607143  0.377358  0.388889  \n",
       "Linear SVM                             1.000000  0.650000  0.481481  \n",
       "Non-linear SVM(sigmoid)                0.500000  0.431373  0.462963  \n",
       "Linear Neural Networks                 0.535714  0.586207  0.555556  \n",
       "Non-Linear Neural Networks             0.464286  0.607143  0.592593  "
      ]
     },
     "execution_count": 71,
     "metadata": {},
     "output_type": "execute_result"
    }
   ],
   "source": [
    "weekly_nyt_mod=ml_modle(x_wtrain1,y_wtrain,x_wtest1,y_wtest,tree_max_depth=3,threshold=0,SVM_C=1,net_pass=100,hid_layer=1)\n",
    "score(weekly_nyt_mod)"
   ]
  },
  {
   "cell_type": "code",
   "execution_count": 72,
   "metadata": {},
   "outputs": [
    {
     "data": {
      "image/png": "[encoded data removed]",
      "text/plain": [
       "<Figure size 360x72 with 1 Axes>"
      ]
     },
     "metadata": {
      "needs_background": "light"
     },
     "output_type": "display_data"
    }
   ],
   "source": [
    "importances=weekly_nyt_mod[7]\n",
    "indices = np.argsort(importances)\n",
    "plt.figure(figsize=(5,1))\n",
    "feature_names = [key for key in x_wtrain1 if not key == 'direction']\n",
    "plt.title('Feature Importances')\n",
    "plt.barh(range(len(indices)), importances[indices], color='b', align='center')\n",
    "plt.yticks(range(len(indices)),feature_names)\n",
    "plt.xlabel('Relative Importance')\n",
    "plt.show()"
   ]
  },
  {
   "cell_type": "markdown",
   "metadata": {},
   "source": [
    "<li> NYtimes (all emotions) "
   ]
  },
  {
   "cell_type": "code",
   "execution_count": 96,
   "metadata": {},
   "outputs": [
    {
     "data": {
      "text/html": [
       "<div>\n",
       "<style scoped>\n",
       "    .dataframe tbody tr th:only-of-type {\n",
       "        vertical-align: middle;\n",
       "    }\n",
       "\n",
       "    .dataframe tbody tr th {\n",
       "        vertical-align: top;\n",
       "    }\n",
       "\n",
       "    .dataframe thead th {\n",
       "        text-align: right;\n",
       "    }\n",
       "</style>\n",
       "<table border=\"1\" class=\"dataframe\">\n",
       "  <thead>\n",
       "    <tr style=\"text-align: right;\">\n",
       "      <th></th>\n",
       "      <th>Precision</th>\n",
       "      <th>True Negative Rate</th>\n",
       "      <th>False_Positive_Rate</th>\n",
       "      <th>f_score</th>\n",
       "      <th>Accuracy</th>\n",
       "    </tr>\n",
       "  </thead>\n",
       "  <tbody>\n",
       "    <tr>\n",
       "      <th>Lnear Regerssion</th>\n",
       "      <td>0.437500</td>\n",
       "      <td>0.583333</td>\n",
       "      <td>0.600000</td>\n",
       "      <td>0.500000</td>\n",
       "      <td>0.481481</td>\n",
       "    </tr>\n",
       "    <tr>\n",
       "      <th>Decision Tree</th>\n",
       "      <td>0.350000</td>\n",
       "      <td>0.291667</td>\n",
       "      <td>0.433333</td>\n",
       "      <td>0.318182</td>\n",
       "      <td>0.444444</td>\n",
       "    </tr>\n",
       "    <tr>\n",
       "      <th>Random Forest</th>\n",
       "      <td>0.387097</td>\n",
       "      <td>0.500000</td>\n",
       "      <td>0.633333</td>\n",
       "      <td>0.436364</td>\n",
       "      <td>0.425926</td>\n",
       "    </tr>\n",
       "    <tr>\n",
       "      <th>Linear SVM</th>\n",
       "      <td>0.444444</td>\n",
       "      <td>1.000000</td>\n",
       "      <td>1.000000</td>\n",
       "      <td>0.615385</td>\n",
       "      <td>0.444444</td>\n",
       "    </tr>\n",
       "    <tr>\n",
       "      <th>Non-linear SVM(sigmoid)</th>\n",
       "      <td>0.410256</td>\n",
       "      <td>0.666667</td>\n",
       "      <td>0.766667</td>\n",
       "      <td>0.507937</td>\n",
       "      <td>0.425926</td>\n",
       "    </tr>\n",
       "    <tr>\n",
       "      <th>Linear Neural Networks</th>\n",
       "      <td>0.480000</td>\n",
       "      <td>0.500000</td>\n",
       "      <td>0.433333</td>\n",
       "      <td>0.489796</td>\n",
       "      <td>0.537037</td>\n",
       "    </tr>\n",
       "    <tr>\n",
       "      <th>Non-Linear Neural Networks</th>\n",
       "      <td>1.000000</td>\n",
       "      <td>0.208333</td>\n",
       "      <td>0.000000</td>\n",
       "      <td>0.344828</td>\n",
       "      <td>0.648148</td>\n",
       "    </tr>\n",
       "  </tbody>\n",
       "</table>\n",
       "</div>"
      ],
      "text/plain": [
       "                            Precision  True Negative Rate  \\\n",
       "Lnear Regerssion             0.437500            0.583333   \n",
       "Decision Tree                0.350000            0.291667   \n",
       "Random Forest                0.387097            0.500000   \n",
       "Linear SVM                   0.444444            1.000000   \n",
       "Non-linear SVM(sigmoid)      0.410256            0.666667   \n",
       "Linear Neural Networks       0.480000            0.500000   \n",
       "Non-Linear Neural Networks   1.000000            0.208333   \n",
       "\n",
       "                            False_Positive_Rate   f_score  Accuracy  \n",
       "Lnear Regerssion                       0.600000  0.500000  0.481481  \n",
       "Decision Tree                          0.433333  0.318182  0.444444  \n",
       "Random Forest                          0.633333  0.436364  0.425926  \n",
       "Linear SVM                             1.000000  0.615385  0.444444  \n",
       "Non-linear SVM(sigmoid)                0.766667  0.507937  0.425926  \n",
       "Linear Neural Networks                 0.433333  0.489796  0.537037  \n",
       "Non-Linear Neural Networks             0.000000  0.344828  0.648148  "
      ]
     },
     "execution_count": 96,
     "metadata": {},
     "output_type": "execute_result"
    }
   ],
   "source": [
    "weekly_nyt_all=ml_modle(x_wtrain2,y_wtrain,x_wtest2,y_wtest,tree_max_depth=3,threshold=0,SVM_C=1,net_pass=100,hid_layer=3)\n",
    "score(weekly_nyt_all)"
   ]
  },
  {
   "cell_type": "code",
   "execution_count": 97,
   "metadata": {},
   "outputs": [
    {
     "data": {
      "image/png": "[encoded data removed]",
      "text/plain": [
       "<Figure size 360x288 with 1 Axes>"
      ]
     },
     "metadata": {
      "needs_background": "light"
     },
     "output_type": "display_data"
    }
   ],
   "source": [
    "importances=weekly_nyt_all[7]\n",
    "indices = np.argsort(importances)\n",
    "plt.figure(figsize=(5,4))\n",
    "feature_names = [key for key in x_wtrain2 if not key == 'direction']\n",
    "plt.title('Feature Importances')\n",
    "plt.barh(range(len(indices)), importances[indices], color='b', align='center')\n",
    "plt.yticks(range(len(indices)),feature_names)\n",
    "plt.xlabel('Relative Importance')\n",
    "plt.show()"
   ]
  },
  {
   "cell_type": "markdown",
   "metadata": {},
   "source": [
    "# Facebook"
   ]
  },
  {
   "cell_type": "code",
   "execution_count": 100,
   "metadata": {},
   "outputs": [],
   "source": [
    "stock,stock_weekly,reddit,nytimes = data_pre('FB.csv','fb_reddit_emotions.csv','fb_article_emotions.csv')\n",
    "x_dtrain1,x_dtrain2,y_dtrain,x_dtest1,x_dtest2,y_dtest,x_wtrain1,x_wtrain2,y_wtrain,x_wtest1,x_wtest2,y_wtest=train_test(stock,reddit,stock_weekly,nytimes)"
   ]
  },
  {
   "cell_type": "markdown",
   "metadata": {},
   "source": [
    "<li> Reddit (upvote+com_num+score+modified) "
   ]
  },
  {
   "cell_type": "code",
   "execution_count": 105,
   "metadata": {},
   "outputs": [
    {
     "data": {
      "text/html": [
       "<div>\n",
       "<style scoped>\n",
       "    .dataframe tbody tr th:only-of-type {\n",
       "        vertical-align: middle;\n",
       "    }\n",
       "\n",
       "    .dataframe tbody tr th {\n",
       "        vertical-align: top;\n",
       "    }\n",
       "\n",
       "    .dataframe thead th {\n",
       "        text-align: right;\n",
       "    }\n",
       "</style>\n",
       "<table border=\"1\" class=\"dataframe\">\n",
       "  <thead>\n",
       "    <tr style=\"text-align: right;\">\n",
       "      <th></th>\n",
       "      <th>Precision</th>\n",
       "      <th>True Negative Rate</th>\n",
       "      <th>False_Positive_Rate</th>\n",
       "      <th>f_score</th>\n",
       "      <th>Accuracy</th>\n",
       "    </tr>\n",
       "  </thead>\n",
       "  <tbody>\n",
       "    <tr>\n",
       "      <th>Lnear Regerssion</th>\n",
       "      <td>0.500000</td>\n",
       "      <td>0.700000</td>\n",
       "      <td>0.636364</td>\n",
       "      <td>0.583333</td>\n",
       "      <td>0.523810</td>\n",
       "    </tr>\n",
       "    <tr>\n",
       "      <th>Decision Tree</th>\n",
       "      <td>0.620690</td>\n",
       "      <td>0.600000</td>\n",
       "      <td>0.333333</td>\n",
       "      <td>0.610169</td>\n",
       "      <td>0.634921</td>\n",
       "    </tr>\n",
       "    <tr>\n",
       "      <th>Random Forest</th>\n",
       "      <td>0.428571</td>\n",
       "      <td>0.400000</td>\n",
       "      <td>0.484848</td>\n",
       "      <td>0.413793</td>\n",
       "      <td>0.460317</td>\n",
       "    </tr>\n",
       "    <tr>\n",
       "      <th>Linear SVM</th>\n",
       "      <td>0.476190</td>\n",
       "      <td>1.000000</td>\n",
       "      <td>1.000000</td>\n",
       "      <td>0.645161</td>\n",
       "      <td>0.476190</td>\n",
       "    </tr>\n",
       "    <tr>\n",
       "      <th>Non-linear SVM(sigmoid)</th>\n",
       "      <td>0.400000</td>\n",
       "      <td>0.466667</td>\n",
       "      <td>0.636364</td>\n",
       "      <td>0.430769</td>\n",
       "      <td>0.412698</td>\n",
       "    </tr>\n",
       "    <tr>\n",
       "      <th>Linear Neural Networks</th>\n",
       "      <td>0.500000</td>\n",
       "      <td>0.066667</td>\n",
       "      <td>0.060606</td>\n",
       "      <td>0.117647</td>\n",
       "      <td>0.523810</td>\n",
       "    </tr>\n",
       "    <tr>\n",
       "      <th>Non-Linear Neural Networks</th>\n",
       "      <td>0.490909</td>\n",
       "      <td>0.900000</td>\n",
       "      <td>0.848485</td>\n",
       "      <td>0.635294</td>\n",
       "      <td>0.507937</td>\n",
       "    </tr>\n",
       "  </tbody>\n",
       "</table>\n",
       "</div>"
      ],
      "text/plain": [
       "                            Precision  True Negative Rate  \\\n",
       "Lnear Regerssion             0.500000            0.700000   \n",
       "Decision Tree                0.620690            0.600000   \n",
       "Random Forest                0.428571            0.400000   \n",
       "Linear SVM                   0.476190            1.000000   \n",
       "Non-linear SVM(sigmoid)      0.400000            0.466667   \n",
       "Linear Neural Networks       0.500000            0.066667   \n",
       "Non-Linear Neural Networks   0.490909            0.900000   \n",
       "\n",
       "                            False_Positive_Rate   f_score  Accuracy  \n",
       "Lnear Regerssion                       0.636364  0.583333  0.523810  \n",
       "Decision Tree                          0.333333  0.610169  0.634921  \n",
       "Random Forest                          0.484848  0.413793  0.460317  \n",
       "Linear SVM                             1.000000  0.645161  0.476190  \n",
       "Non-linear SVM(sigmoid)                0.636364  0.430769  0.412698  \n",
       "Linear Neural Networks                 0.060606  0.117647  0.523810  \n",
       "Non-Linear Neural Networks             0.848485  0.635294  0.507937  "
      ]
     },
     "execution_count": 105,
     "metadata": {},
     "output_type": "execute_result"
    }
   ],
   "source": [
    "daily_reddit_mod=ml_modle(x_dtrain1,y_dtrain,x_dtest1,y_dtest,tree_max_depth=4,threshold=0,SVM_C=1,net_pass=1000,hid_layer=2)\n",
    "score(daily_reddit_mod)"
   ]
  },
  {
   "cell_type": "code",
   "execution_count": 104,
   "metadata": {},
   "outputs": [
    {
     "data": {
      "image/png": "[encoded data removed]",
      "text/plain": [
       "<Figure size 360x144 with 1 Axes>"
      ]
     },
     "metadata": {
      "needs_background": "light"
     },
     "output_type": "display_data"
    }
   ],
   "source": [
    "importances=daily_reddit_mod[7]\n",
    "indices = np.argsort(importances)\n",
    "plt.figure(figsize=(5,2))\n",
    "feature_names = [key for key in x_dtrain1 if not key == 'direction']\n",
    "plt.title('Feature Importances')\n",
    "plt.barh(range(len(indices)), importances[indices], color='b', align='center')\n",
    "plt.yticks(range(len(indices)),feature_names)\n",
    "plt.xlabel('Relative Importance')\n",
    "plt.show()"
   ]
  },
  {
   "cell_type": "markdown",
   "metadata": {},
   "source": [
    "<li> Reddit (upvote+com_num+score+all emotions) "
   ]
  },
  {
   "cell_type": "code",
   "execution_count": 123,
   "metadata": {},
   "outputs": [
    {
     "data": {
      "text/html": [
       "<div>\n",
       "<style scoped>\n",
       "    .dataframe tbody tr th:only-of-type {\n",
       "        vertical-align: middle;\n",
       "    }\n",
       "\n",
       "    .dataframe tbody tr th {\n",
       "        vertical-align: top;\n",
       "    }\n",
       "\n",
       "    .dataframe thead th {\n",
       "        text-align: right;\n",
       "    }\n",
       "</style>\n",
       "<table border=\"1\" class=\"dataframe\">\n",
       "  <thead>\n",
       "    <tr style=\"text-align: right;\">\n",
       "      <th></th>\n",
       "      <th>Precision</th>\n",
       "      <th>True Negative Rate</th>\n",
       "      <th>False_Positive_Rate</th>\n",
       "      <th>f_score</th>\n",
       "      <th>Accuracy</th>\n",
       "    </tr>\n",
       "  </thead>\n",
       "  <tbody>\n",
       "    <tr>\n",
       "      <th>Lnear Regerssion</th>\n",
       "      <td>0.500000</td>\n",
       "      <td>0.700000</td>\n",
       "      <td>0.636364</td>\n",
       "      <td>0.583333</td>\n",
       "      <td>0.523810</td>\n",
       "    </tr>\n",
       "    <tr>\n",
       "      <th>Decision Tree</th>\n",
       "      <td>0.428571</td>\n",
       "      <td>0.200000</td>\n",
       "      <td>0.242424</td>\n",
       "      <td>0.272727</td>\n",
       "      <td>0.492063</td>\n",
       "    </tr>\n",
       "    <tr>\n",
       "      <th>Random Forest</th>\n",
       "      <td>0.500000</td>\n",
       "      <td>0.633333</td>\n",
       "      <td>0.575758</td>\n",
       "      <td>0.558824</td>\n",
       "      <td>0.523810</td>\n",
       "    </tr>\n",
       "    <tr>\n",
       "      <th>Linear SVM</th>\n",
       "      <td>0.476190</td>\n",
       "      <td>1.000000</td>\n",
       "      <td>1.000000</td>\n",
       "      <td>0.645161</td>\n",
       "      <td>0.476190</td>\n",
       "    </tr>\n",
       "    <tr>\n",
       "      <th>Non-linear SVM(sigmoid)</th>\n",
       "      <td>0.435897</td>\n",
       "      <td>0.566667</td>\n",
       "      <td>0.666667</td>\n",
       "      <td>0.492754</td>\n",
       "      <td>0.444444</td>\n",
       "    </tr>\n",
       "    <tr>\n",
       "      <th>Linear Neural Networks</th>\n",
       "      <td>0.333333</td>\n",
       "      <td>0.033333</td>\n",
       "      <td>0.060606</td>\n",
       "      <td>0.060606</td>\n",
       "      <td>0.507937</td>\n",
       "    </tr>\n",
       "    <tr>\n",
       "      <th>Non-Linear Neural Networks</th>\n",
       "      <td>0.500000</td>\n",
       "      <td>0.066667</td>\n",
       "      <td>0.060606</td>\n",
       "      <td>0.117647</td>\n",
       "      <td>0.523810</td>\n",
       "    </tr>\n",
       "  </tbody>\n",
       "</table>\n",
       "</div>"
      ],
      "text/plain": [
       "                            Precision  True Negative Rate  \\\n",
       "Lnear Regerssion             0.500000            0.700000   \n",
       "Decision Tree                0.428571            0.200000   \n",
       "Random Forest                0.500000            0.633333   \n",
       "Linear SVM                   0.476190            1.000000   \n",
       "Non-linear SVM(sigmoid)      0.435897            0.566667   \n",
       "Linear Neural Networks       0.333333            0.033333   \n",
       "Non-Linear Neural Networks   0.500000            0.066667   \n",
       "\n",
       "                            False_Positive_Rate   f_score  Accuracy  \n",
       "Lnear Regerssion                       0.636364  0.583333  0.523810  \n",
       "Decision Tree                          0.242424  0.272727  0.492063  \n",
       "Random Forest                          0.575758  0.558824  0.523810  \n",
       "Linear SVM                             1.000000  0.645161  0.476190  \n",
       "Non-linear SVM(sigmoid)                0.666667  0.492754  0.444444  \n",
       "Linear Neural Networks                 0.060606  0.060606  0.507937  \n",
       "Non-Linear Neural Networks             0.060606  0.117647  0.523810  "
      ]
     },
     "execution_count": 123,
     "metadata": {},
     "output_type": "execute_result"
    }
   ],
   "source": [
    "daily_reddit_all=ml_modle(x_dtrain2,y_dtrain,x_dtest2,y_dtest,tree_max_depth=5,threshold=0,SVM_C=1,net_pass=1000,hid_layer=3)\n",
    "score(daily_reddit_all)"
   ]
  },
  {
   "cell_type": "code",
   "execution_count": 107,
   "metadata": {},
   "outputs": [
    {
     "data": {
      "image/png": "[encoded data removed]",
      "text/plain": [
       "<Figure size 360x288 with 1 Axes>"
      ]
     },
     "metadata": {
      "needs_background": "light"
     },
     "output_type": "display_data"
    }
   ],
   "source": [
    "importances=daily_reddit_all[7]\n",
    "indices = np.argsort(importances)\n",
    "plt.figure(figsize=(5,4))\n",
    "feature_names = [key for key in x_dtrain2 if not key == 'direction']\n",
    "plt.title('Feature Importances')\n",
    "plt.barh(range(len(indices)), importances[indices], color='b', align='center')\n",
    "plt.yticks(range(len(indices)),feature_names)\n",
    "plt.xlabel('Relative Importance')\n",
    "plt.show()"
   ]
  },
  {
   "cell_type": "markdown",
   "metadata": {},
   "source": [
    "<li> NYtimes (modified) "
   ]
  },
  {
   "cell_type": "code",
   "execution_count": 127,
   "metadata": {},
   "outputs": [
    {
     "data": {
      "text/html": [
       "<div>\n",
       "<style scoped>\n",
       "    .dataframe tbody tr th:only-of-type {\n",
       "        vertical-align: middle;\n",
       "    }\n",
       "\n",
       "    .dataframe tbody tr th {\n",
       "        vertical-align: top;\n",
       "    }\n",
       "\n",
       "    .dataframe thead th {\n",
       "        text-align: right;\n",
       "    }\n",
       "</style>\n",
       "<table border=\"1\" class=\"dataframe\">\n",
       "  <thead>\n",
       "    <tr style=\"text-align: right;\">\n",
       "      <th></th>\n",
       "      <th>Precision</th>\n",
       "      <th>True Negative Rate</th>\n",
       "      <th>False_Positive_Rate</th>\n",
       "      <th>f_score</th>\n",
       "      <th>Accuracy</th>\n",
       "    </tr>\n",
       "  </thead>\n",
       "  <tbody>\n",
       "    <tr>\n",
       "      <th>Lnear Regerssion</th>\n",
       "      <td>0.512821</td>\n",
       "      <td>0.689655</td>\n",
       "      <td>0.791667</td>\n",
       "      <td>0.588235</td>\n",
       "      <td>0.471698</td>\n",
       "    </tr>\n",
       "    <tr>\n",
       "      <th>Decision Tree</th>\n",
       "      <td>0.484848</td>\n",
       "      <td>0.551724</td>\n",
       "      <td>0.708333</td>\n",
       "      <td>0.516129</td>\n",
       "      <td>0.433962</td>\n",
       "    </tr>\n",
       "    <tr>\n",
       "      <th>Random Forest</th>\n",
       "      <td>0.464286</td>\n",
       "      <td>0.448276</td>\n",
       "      <td>0.625000</td>\n",
       "      <td>0.456140</td>\n",
       "      <td>0.415094</td>\n",
       "    </tr>\n",
       "    <tr>\n",
       "      <th>Linear SVM</th>\n",
       "      <td>0.547170</td>\n",
       "      <td>1.000000</td>\n",
       "      <td>1.000000</td>\n",
       "      <td>0.707317</td>\n",
       "      <td>0.547170</td>\n",
       "    </tr>\n",
       "    <tr>\n",
       "      <th>Non-linear SVM(sigmoid)</th>\n",
       "      <td>0.551724</td>\n",
       "      <td>0.551724</td>\n",
       "      <td>0.541667</td>\n",
       "      <td>0.551724</td>\n",
       "      <td>0.509434</td>\n",
       "    </tr>\n",
       "    <tr>\n",
       "      <th>Linear Neural Networks</th>\n",
       "      <td>0.578947</td>\n",
       "      <td>0.379310</td>\n",
       "      <td>0.333333</td>\n",
       "      <td>0.458333</td>\n",
       "      <td>0.509434</td>\n",
       "    </tr>\n",
       "    <tr>\n",
       "      <th>Non-Linear Neural Networks</th>\n",
       "      <td>0.600000</td>\n",
       "      <td>0.517241</td>\n",
       "      <td>0.416667</td>\n",
       "      <td>0.555556</td>\n",
       "      <td>0.547170</td>\n",
       "    </tr>\n",
       "  </tbody>\n",
       "</table>\n",
       "</div>"
      ],
      "text/plain": [
       "                            Precision  True Negative Rate  \\\n",
       "Lnear Regerssion             0.512821            0.689655   \n",
       "Decision Tree                0.484848            0.551724   \n",
       "Random Forest                0.464286            0.448276   \n",
       "Linear SVM                   0.547170            1.000000   \n",
       "Non-linear SVM(sigmoid)      0.551724            0.551724   \n",
       "Linear Neural Networks       0.578947            0.379310   \n",
       "Non-Linear Neural Networks   0.600000            0.517241   \n",
       "\n",
       "                            False_Positive_Rate   f_score  Accuracy  \n",
       "Lnear Regerssion                       0.791667  0.588235  0.471698  \n",
       "Decision Tree                          0.708333  0.516129  0.433962  \n",
       "Random Forest                          0.625000  0.456140  0.415094  \n",
       "Linear SVM                             1.000000  0.707317  0.547170  \n",
       "Non-linear SVM(sigmoid)                0.541667  0.551724  0.509434  \n",
       "Linear Neural Networks                 0.333333  0.458333  0.509434  \n",
       "Non-Linear Neural Networks             0.416667  0.555556  0.547170  "
      ]
     },
     "execution_count": 127,
     "metadata": {},
     "output_type": "execute_result"
    }
   ],
   "source": [
    "weekly_nyt_mod=ml_modle(x_wtrain1,y_wtrain,x_wtest1,y_wtest,tree_max_depth=3,threshold=0,SVM_C=1,net_pass=1000,hid_layer=1)\n",
    "score(weekly_nyt_mod)"
   ]
  },
  {
   "cell_type": "code",
   "execution_count": 114,
   "metadata": {},
   "outputs": [
    {
     "data": {
      "image/png": "[encoded data removed]",
      "text/plain": [
       "<Figure size 360x72 with 1 Axes>"
      ]
     },
     "metadata": {
      "needs_background": "light"
     },
     "output_type": "display_data"
    }
   ],
   "source": [
    "importances=weekly_nyt_mod[7]\n",
    "indices = np.argsort(importances)\n",
    "plt.figure(figsize=(5,1))\n",
    "feature_names = [key for key in x_wtrain1 if not key == 'direction']\n",
    "plt.title('Feature Importances')\n",
    "plt.barh(range(len(indices)), importances[indices], color='b', align='center')\n",
    "plt.yticks(range(len(indices)),feature_names)\n",
    "plt.xlabel('Relative Importance')\n",
    "plt.show()"
   ]
  },
  {
   "cell_type": "markdown",
   "metadata": {},
   "source": [
    "<li> NYtimes (all emotions) "
   ]
  },
  {
   "cell_type": "code",
   "execution_count": 128,
   "metadata": {},
   "outputs": [
    {
     "data": {
      "text/html": [
       "<div>\n",
       "<style scoped>\n",
       "    .dataframe tbody tr th:only-of-type {\n",
       "        vertical-align: middle;\n",
       "    }\n",
       "\n",
       "    .dataframe tbody tr th {\n",
       "        vertical-align: top;\n",
       "    }\n",
       "\n",
       "    .dataframe thead th {\n",
       "        text-align: right;\n",
       "    }\n",
       "</style>\n",
       "<table border=\"1\" class=\"dataframe\">\n",
       "  <thead>\n",
       "    <tr style=\"text-align: right;\">\n",
       "      <th></th>\n",
       "      <th>Precision</th>\n",
       "      <th>True Negative Rate</th>\n",
       "      <th>False_Positive_Rate</th>\n",
       "      <th>f_score</th>\n",
       "      <th>Accuracy</th>\n",
       "    </tr>\n",
       "  </thead>\n",
       "  <tbody>\n",
       "    <tr>\n",
       "      <th>Lnear Regerssion</th>\n",
       "      <td>0.500000</td>\n",
       "      <td>0.620690</td>\n",
       "      <td>0.750000</td>\n",
       "      <td>0.553846</td>\n",
       "      <td>0.452830</td>\n",
       "    </tr>\n",
       "    <tr>\n",
       "      <th>Decision Tree</th>\n",
       "      <td>0.571429</td>\n",
       "      <td>0.827586</td>\n",
       "      <td>0.750000</td>\n",
       "      <td>0.676056</td>\n",
       "      <td>0.566038</td>\n",
       "    </tr>\n",
       "    <tr>\n",
       "      <th>Random Forest</th>\n",
       "      <td>0.500000</td>\n",
       "      <td>0.482759</td>\n",
       "      <td>0.583333</td>\n",
       "      <td>0.491228</td>\n",
       "      <td>0.452830</td>\n",
       "    </tr>\n",
       "    <tr>\n",
       "      <th>Linear SVM</th>\n",
       "      <td>0.547170</td>\n",
       "      <td>1.000000</td>\n",
       "      <td>1.000000</td>\n",
       "      <td>0.707317</td>\n",
       "      <td>0.547170</td>\n",
       "    </tr>\n",
       "    <tr>\n",
       "      <th>Non-linear SVM(sigmoid)</th>\n",
       "      <td>0.468750</td>\n",
       "      <td>0.517241</td>\n",
       "      <td>0.708333</td>\n",
       "      <td>0.491803</td>\n",
       "      <td>0.415094</td>\n",
       "    </tr>\n",
       "    <tr>\n",
       "      <th>Linear Neural Networks</th>\n",
       "      <td>0.550000</td>\n",
       "      <td>0.379310</td>\n",
       "      <td>0.375000</td>\n",
       "      <td>0.448980</td>\n",
       "      <td>0.490566</td>\n",
       "    </tr>\n",
       "    <tr>\n",
       "      <th>Non-Linear Neural Networks</th>\n",
       "      <td>0.500000</td>\n",
       "      <td>0.413793</td>\n",
       "      <td>0.500000</td>\n",
       "      <td>0.452830</td>\n",
       "      <td>0.452830</td>\n",
       "    </tr>\n",
       "  </tbody>\n",
       "</table>\n",
       "</div>"
      ],
      "text/plain": [
       "                            Precision  True Negative Rate  \\\n",
       "Lnear Regerssion             0.500000            0.620690   \n",
       "Decision Tree                0.571429            0.827586   \n",
       "Random Forest                0.500000            0.482759   \n",
       "Linear SVM                   0.547170            1.000000   \n",
       "Non-linear SVM(sigmoid)      0.468750            0.517241   \n",
       "Linear Neural Networks       0.550000            0.379310   \n",
       "Non-Linear Neural Networks   0.500000            0.413793   \n",
       "\n",
       "                            False_Positive_Rate   f_score  Accuracy  \n",
       "Lnear Regerssion                       0.750000  0.553846  0.452830  \n",
       "Decision Tree                          0.750000  0.676056  0.566038  \n",
       "Random Forest                          0.583333  0.491228  0.452830  \n",
       "Linear SVM                             1.000000  0.707317  0.547170  \n",
       "Non-linear SVM(sigmoid)                0.708333  0.491803  0.415094  \n",
       "Linear Neural Networks                 0.375000  0.448980  0.490566  \n",
       "Non-Linear Neural Networks             0.500000  0.452830  0.452830  "
      ]
     },
     "execution_count": 128,
     "metadata": {},
     "output_type": "execute_result"
    }
   ],
   "source": [
    "weekly_nyt_all=ml_modle(x_wtrain2,y_wtrain,x_wtest2,y_wtest,tree_max_depth=3,threshold=0,SVM_C=1,net_pass=100,hid_layer=4)\n",
    "score(weekly_nyt_all)"
   ]
  },
  {
   "cell_type": "code",
   "execution_count": 129,
   "metadata": {},
   "outputs": [
    {
     "data": {
      "image/png": "[encoded data removed]",
      "text/plain": [
       "<Figure size 360x288 with 1 Axes>"
      ]
     },
     "metadata": {
      "needs_background": "light"
     },
     "output_type": "display_data"
    }
   ],
   "source": [
    "importances=weekly_nyt_all[7]\n",
    "indices = np.argsort(importances)\n",
    "plt.figure(figsize=(5,4))\n",
    "feature_names = [key for key in x_wtrain2 if not key == 'direction']\n",
    "plt.title('Feature Importances')\n",
    "plt.barh(range(len(indices)), importances[indices], color='b', align='center')\n",
    "plt.yticks(range(len(indices)),feature_names)\n",
    "plt.xlabel('Relative Importance')\n",
    "plt.show()"
   ]
  },
  {
   "cell_type": "markdown",
   "metadata": {},
   "source": [
    "# Netflix"
   ]
  },
  {
   "cell_type": "code",
   "execution_count": 130,
   "metadata": {},
   "outputs": [],
   "source": [
    "stock,stock_weekly,reddit,nytimes = data_pre('NFLX.csv','nf_reddit_emotions.csv','nf_article_emotions.csv')\n",
    "x_dtrain1,x_dtrain2,y_dtrain,x_dtest1,x_dtest2,y_dtest,x_wtrain1,x_wtrain2,y_wtrain,x_wtest1,x_wtest2,y_wtest=train_test(stock,reddit,stock_weekly,nytimes)"
   ]
  },
  {
   "cell_type": "markdown",
   "metadata": {},
   "source": [
    "<li> Reddit (upvote+com_num+score+modified) "
   ]
  },
  {
   "cell_type": "code",
   "execution_count": 133,
   "metadata": {},
   "outputs": [
    {
     "data": {
      "text/html": [
       "<div>\n",
       "<style scoped>\n",
       "    .dataframe tbody tr th:only-of-type {\n",
       "        vertical-align: middle;\n",
       "    }\n",
       "\n",
       "    .dataframe tbody tr th {\n",
       "        vertical-align: top;\n",
       "    }\n",
       "\n",
       "    .dataframe thead th {\n",
       "        text-align: right;\n",
       "    }\n",
       "</style>\n",
       "<table border=\"1\" class=\"dataframe\">\n",
       "  <thead>\n",
       "    <tr style=\"text-align: right;\">\n",
       "      <th></th>\n",
       "      <th>Precision</th>\n",
       "      <th>True Negative Rate</th>\n",
       "      <th>False_Positive_Rate</th>\n",
       "      <th>f_score</th>\n",
       "      <th>Accuracy</th>\n",
       "    </tr>\n",
       "  </thead>\n",
       "  <tbody>\n",
       "    <tr>\n",
       "      <th>Lnear Regerssion</th>\n",
       "      <td>0.604651</td>\n",
       "      <td>0.702703</td>\n",
       "      <td>0.607143</td>\n",
       "      <td>0.650000</td>\n",
       "      <td>0.569231</td>\n",
       "    </tr>\n",
       "    <tr>\n",
       "      <th>Decision Tree</th>\n",
       "      <td>0.581395</td>\n",
       "      <td>0.675676</td>\n",
       "      <td>0.642857</td>\n",
       "      <td>0.625000</td>\n",
       "      <td>0.538462</td>\n",
       "    </tr>\n",
       "    <tr>\n",
       "      <th>Random Forest</th>\n",
       "      <td>0.583333</td>\n",
       "      <td>0.567568</td>\n",
       "      <td>0.535714</td>\n",
       "      <td>0.575342</td>\n",
       "      <td>0.523077</td>\n",
       "    </tr>\n",
       "    <tr>\n",
       "      <th>Linear SVM</th>\n",
       "      <td>0.548387</td>\n",
       "      <td>0.918919</td>\n",
       "      <td>1.000000</td>\n",
       "      <td>0.686869</td>\n",
       "      <td>0.523077</td>\n",
       "    </tr>\n",
       "    <tr>\n",
       "      <th>Non-linear SVM(sigmoid)</th>\n",
       "      <td>0.615385</td>\n",
       "      <td>0.432432</td>\n",
       "      <td>0.357143</td>\n",
       "      <td>0.507937</td>\n",
       "      <td>0.523077</td>\n",
       "    </tr>\n",
       "    <tr>\n",
       "      <th>Linear Neural Networks</th>\n",
       "      <td>0.500000</td>\n",
       "      <td>0.027027</td>\n",
       "      <td>0.035714</td>\n",
       "      <td>0.051282</td>\n",
       "      <td>0.430769</td>\n",
       "    </tr>\n",
       "    <tr>\n",
       "      <th>Non-Linear Neural Networks</th>\n",
       "      <td>0.571429</td>\n",
       "      <td>0.972973</td>\n",
       "      <td>0.964286</td>\n",
       "      <td>0.720000</td>\n",
       "      <td>0.569231</td>\n",
       "    </tr>\n",
       "  </tbody>\n",
       "</table>\n",
       "</div>"
      ],
      "text/plain": [
       "                            Precision  True Negative Rate  \\\n",
       "Lnear Regerssion             0.604651            0.702703   \n",
       "Decision Tree                0.581395            0.675676   \n",
       "Random Forest                0.583333            0.567568   \n",
       "Linear SVM                   0.548387            0.918919   \n",
       "Non-linear SVM(sigmoid)      0.615385            0.432432   \n",
       "Linear Neural Networks       0.500000            0.027027   \n",
       "Non-Linear Neural Networks   0.571429            0.972973   \n",
       "\n",
       "                            False_Positive_Rate   f_score  Accuracy  \n",
       "Lnear Regerssion                       0.607143  0.650000  0.569231  \n",
       "Decision Tree                          0.642857  0.625000  0.538462  \n",
       "Random Forest                          0.535714  0.575342  0.523077  \n",
       "Linear SVM                             1.000000  0.686869  0.523077  \n",
       "Non-linear SVM(sigmoid)                0.357143  0.507937  0.523077  \n",
       "Linear Neural Networks                 0.035714  0.051282  0.430769  \n",
       "Non-Linear Neural Networks             0.964286  0.720000  0.569231  "
      ]
     },
     "execution_count": 133,
     "metadata": {},
     "output_type": "execute_result"
    }
   ],
   "source": [
    "daily_reddit_mod=ml_modle(x_dtrain1,y_dtrain,x_dtest1,y_dtest,tree_max_depth=4,threshold=0,SVM_C=1,net_pass=100,hid_layer=3)\n",
    "score(daily_reddit_mod)"
   ]
  },
  {
   "cell_type": "code",
   "execution_count": 134,
   "metadata": {},
   "outputs": [
    {
     "data": {
      "image/png": "[encoded data removed]",
      "text/plain": [
       "<Figure size 360x144 with 1 Axes>"
      ]
     },
     "metadata": {
      "needs_background": "light"
     },
     "output_type": "display_data"
    }
   ],
   "source": [
    "importances=daily_reddit_mod[7]\n",
    "indices = np.argsort(importances)\n",
    "plt.figure(figsize=(5,2))\n",
    "feature_names = [key for key in x_dtrain1 if not key == 'direction']\n",
    "plt.title('Feature Importances')\n",
    "plt.barh(range(len(indices)), importances[indices], color='b', align='center')\n",
    "plt.yticks(range(len(indices)),feature_names)\n",
    "plt.xlabel('Relative Importance')\n",
    "plt.show()"
   ]
  },
  {
   "cell_type": "markdown",
   "metadata": {},
   "source": [
    "<li> Reddit (upvote+com_num+score+all emotions) "
   ]
  },
  {
   "cell_type": "code",
   "execution_count": 136,
   "metadata": {},
   "outputs": [
    {
     "data": {
      "text/html": [
       "<div>\n",
       "<style scoped>\n",
       "    .dataframe tbody tr th:only-of-type {\n",
       "        vertical-align: middle;\n",
       "    }\n",
       "\n",
       "    .dataframe tbody tr th {\n",
       "        vertical-align: top;\n",
       "    }\n",
       "\n",
       "    .dataframe thead th {\n",
       "        text-align: right;\n",
       "    }\n",
       "</style>\n",
       "<table border=\"1\" class=\"dataframe\">\n",
       "  <thead>\n",
       "    <tr style=\"text-align: right;\">\n",
       "      <th></th>\n",
       "      <th>Precision</th>\n",
       "      <th>True Negative Rate</th>\n",
       "      <th>False_Positive_Rate</th>\n",
       "      <th>f_score</th>\n",
       "      <th>Accuracy</th>\n",
       "    </tr>\n",
       "  </thead>\n",
       "  <tbody>\n",
       "    <tr>\n",
       "      <th>Lnear Regerssion</th>\n",
       "      <td>0.560976</td>\n",
       "      <td>0.621622</td>\n",
       "      <td>0.642857</td>\n",
       "      <td>0.589744</td>\n",
       "      <td>0.507692</td>\n",
       "    </tr>\n",
       "    <tr>\n",
       "      <th>Decision Tree</th>\n",
       "      <td>0.581395</td>\n",
       "      <td>0.675676</td>\n",
       "      <td>0.642857</td>\n",
       "      <td>0.625000</td>\n",
       "      <td>0.538462</td>\n",
       "    </tr>\n",
       "    <tr>\n",
       "      <th>Random Forest</th>\n",
       "      <td>0.578947</td>\n",
       "      <td>0.594595</td>\n",
       "      <td>0.571429</td>\n",
       "      <td>0.586667</td>\n",
       "      <td>0.523077</td>\n",
       "    </tr>\n",
       "    <tr>\n",
       "      <th>Linear SVM</th>\n",
       "      <td>0.555556</td>\n",
       "      <td>0.945946</td>\n",
       "      <td>1.000000</td>\n",
       "      <td>0.700000</td>\n",
       "      <td>0.538462</td>\n",
       "    </tr>\n",
       "    <tr>\n",
       "      <th>Non-linear SVM(sigmoid)</th>\n",
       "      <td>0.642857</td>\n",
       "      <td>0.486486</td>\n",
       "      <td>0.357143</td>\n",
       "      <td>0.553846</td>\n",
       "      <td>0.553846</td>\n",
       "    </tr>\n",
       "    <tr>\n",
       "      <th>Linear Neural Networks</th>\n",
       "      <td>0.500000</td>\n",
       "      <td>0.027027</td>\n",
       "      <td>0.035714</td>\n",
       "      <td>0.051282</td>\n",
       "      <td>0.430769</td>\n",
       "    </tr>\n",
       "    <tr>\n",
       "      <th>Non-Linear Neural Networks</th>\n",
       "      <td>0.571429</td>\n",
       "      <td>0.972973</td>\n",
       "      <td>0.964286</td>\n",
       "      <td>0.720000</td>\n",
       "      <td>0.569231</td>\n",
       "    </tr>\n",
       "  </tbody>\n",
       "</table>\n",
       "</div>"
      ],
      "text/plain": [
       "                            Precision  True Negative Rate  \\\n",
       "Lnear Regerssion             0.560976            0.621622   \n",
       "Decision Tree                0.581395            0.675676   \n",
       "Random Forest                0.578947            0.594595   \n",
       "Linear SVM                   0.555556            0.945946   \n",
       "Non-linear SVM(sigmoid)      0.642857            0.486486   \n",
       "Linear Neural Networks       0.500000            0.027027   \n",
       "Non-Linear Neural Networks   0.571429            0.972973   \n",
       "\n",
       "                            False_Positive_Rate   f_score  Accuracy  \n",
       "Lnear Regerssion                       0.642857  0.589744  0.507692  \n",
       "Decision Tree                          0.642857  0.625000  0.538462  \n",
       "Random Forest                          0.571429  0.586667  0.523077  \n",
       "Linear SVM                             1.000000  0.700000  0.538462  \n",
       "Non-linear SVM(sigmoid)                0.357143  0.553846  0.553846  \n",
       "Linear Neural Networks                 0.035714  0.051282  0.430769  \n",
       "Non-Linear Neural Networks             0.964286  0.720000  0.569231  "
      ]
     },
     "execution_count": 136,
     "metadata": {},
     "output_type": "execute_result"
    }
   ],
   "source": [
    "daily_reddit_all=ml_modle(x_dtrain2,y_dtrain,x_dtest2,y_dtest,tree_max_depth=5,threshold=0,SVM_C=1,net_pass=100,hid_layer=3)\n",
    "score(daily_reddit_all)"
   ]
  },
  {
   "cell_type": "code",
   "execution_count": 137,
   "metadata": {},
   "outputs": [
    {
     "data": {
      "image/png": "[encoded data removed]",
      "text/plain": [
       "<Figure size 360x288 with 1 Axes>"
      ]
     },
     "metadata": {
      "needs_background": "light"
     },
     "output_type": "display_data"
    }
   ],
   "source": [
    "importances=daily_reddit_all[7]\n",
    "indices = np.argsort(importances)\n",
    "plt.figure(figsize=(5,4))\n",
    "feature_names = [key for key in x_dtrain2 if not key == 'direction']\n",
    "plt.title('Feature Importances')\n",
    "plt.barh(range(len(indices)), importances[indices], color='b', align='center')\n",
    "plt.yticks(range(len(indices)),feature_names)\n",
    "plt.xlabel('Relative Importance')\n",
    "plt.show()"
   ]
  },
  {
   "cell_type": "markdown",
   "metadata": {},
   "source": [
    "<li> NYtimes (modified) "
   ]
  },
  {
   "cell_type": "code",
   "execution_count": 141,
   "metadata": {},
   "outputs": [
    {
     "data": {
      "text/html": [
       "<div>\n",
       "<style scoped>\n",
       "    .dataframe tbody tr th:only-of-type {\n",
       "        vertical-align: middle;\n",
       "    }\n",
       "\n",
       "    .dataframe tbody tr th {\n",
       "        vertical-align: top;\n",
       "    }\n",
       "\n",
       "    .dataframe thead th {\n",
       "        text-align: right;\n",
       "    }\n",
       "</style>\n",
       "<table border=\"1\" class=\"dataframe\">\n",
       "  <thead>\n",
       "    <tr style=\"text-align: right;\">\n",
       "      <th></th>\n",
       "      <th>Precision</th>\n",
       "      <th>True Negative Rate</th>\n",
       "      <th>False_Positive_Rate</th>\n",
       "      <th>f_score</th>\n",
       "      <th>Accuracy</th>\n",
       "    </tr>\n",
       "  </thead>\n",
       "  <tbody>\n",
       "    <tr>\n",
       "      <th>Lnear Regerssion</th>\n",
       "      <td>0.485714</td>\n",
       "      <td>0.607143</td>\n",
       "      <td>0.818182</td>\n",
       "      <td>0.539683</td>\n",
       "      <td>0.42</td>\n",
       "    </tr>\n",
       "    <tr>\n",
       "      <th>Decision Tree</th>\n",
       "      <td>0.441176</td>\n",
       "      <td>0.535714</td>\n",
       "      <td>0.863636</td>\n",
       "      <td>0.483871</td>\n",
       "      <td>0.36</td>\n",
       "    </tr>\n",
       "    <tr>\n",
       "      <th>Random Forest</th>\n",
       "      <td>0.428571</td>\n",
       "      <td>0.428571</td>\n",
       "      <td>0.727273</td>\n",
       "      <td>0.428571</td>\n",
       "      <td>0.36</td>\n",
       "    </tr>\n",
       "    <tr>\n",
       "      <th>Linear SVM</th>\n",
       "      <td>0.560000</td>\n",
       "      <td>1.000000</td>\n",
       "      <td>1.000000</td>\n",
       "      <td>0.717949</td>\n",
       "      <td>0.56</td>\n",
       "    </tr>\n",
       "    <tr>\n",
       "      <th>Non-linear SVM(sigmoid)</th>\n",
       "      <td>0.428571</td>\n",
       "      <td>0.428571</td>\n",
       "      <td>0.727273</td>\n",
       "      <td>0.428571</td>\n",
       "      <td>0.36</td>\n",
       "    </tr>\n",
       "    <tr>\n",
       "      <th>Linear Neural Networks</th>\n",
       "      <td>0.413793</td>\n",
       "      <td>0.428571</td>\n",
       "      <td>0.772727</td>\n",
       "      <td>0.421053</td>\n",
       "      <td>0.34</td>\n",
       "    </tr>\n",
       "    <tr>\n",
       "      <th>Non-Linear Neural Networks</th>\n",
       "      <td>0.433333</td>\n",
       "      <td>0.464286</td>\n",
       "      <td>0.772727</td>\n",
       "      <td>0.448276</td>\n",
       "      <td>0.36</td>\n",
       "    </tr>\n",
       "  </tbody>\n",
       "</table>\n",
       "</div>"
      ],
      "text/plain": [
       "                            Precision  True Negative Rate  \\\n",
       "Lnear Regerssion             0.485714            0.607143   \n",
       "Decision Tree                0.441176            0.535714   \n",
       "Random Forest                0.428571            0.428571   \n",
       "Linear SVM                   0.560000            1.000000   \n",
       "Non-linear SVM(sigmoid)      0.428571            0.428571   \n",
       "Linear Neural Networks       0.413793            0.428571   \n",
       "Non-Linear Neural Networks   0.433333            0.464286   \n",
       "\n",
       "                            False_Positive_Rate   f_score  Accuracy  \n",
       "Lnear Regerssion                       0.818182  0.539683      0.42  \n",
       "Decision Tree                          0.863636  0.483871      0.36  \n",
       "Random Forest                          0.727273  0.428571      0.36  \n",
       "Linear SVM                             1.000000  0.717949      0.56  \n",
       "Non-linear SVM(sigmoid)                0.727273  0.428571      0.36  \n",
       "Linear Neural Networks                 0.772727  0.421053      0.34  \n",
       "Non-Linear Neural Networks             0.772727  0.448276      0.36  "
      ]
     },
     "execution_count": 141,
     "metadata": {},
     "output_type": "execute_result"
    }
   ],
   "source": [
    "weekly_nyt_mod=ml_modle(x_wtrain1,y_wtrain,x_wtest1,y_wtest,tree_max_depth=3,threshold=0,SVM_C=1,net_pass=100,hid_layer=1)\n",
    "score(weekly_nyt_mod)"
   ]
  },
  {
   "cell_type": "code",
   "execution_count": 139,
   "metadata": {},
   "outputs": [
    {
     "data": {
      "image/png": "[encoded data removed]",
      "text/plain": [
       "<Figure size 360x72 with 1 Axes>"
      ]
     },
     "metadata": {
      "needs_background": "light"
     },
     "output_type": "display_data"
    }
   ],
   "source": [
    "importances=weekly_nyt_mod[7]\n",
    "indices = np.argsort(importances)\n",
    "plt.figure(figsize=(5,1))\n",
    "feature_names = [key for key in x_wtrain1 if not key == 'direction']\n",
    "plt.title('Feature Importances')\n",
    "plt.barh(range(len(indices)), importances[indices], color='b', align='center')\n",
    "plt.yticks(range(len(indices)),feature_names)\n",
    "plt.xlabel('Relative Importance')\n",
    "plt.show()"
   ]
  },
  {
   "cell_type": "markdown",
   "metadata": {},
   "source": [
    "<li> NYtimes (all emotions) "
   ]
  },
  {
   "cell_type": "code",
   "execution_count": 144,
   "metadata": {},
   "outputs": [
    {
     "data": {
      "text/html": [
       "<div>\n",
       "<style scoped>\n",
       "    .dataframe tbody tr th:only-of-type {\n",
       "        vertical-align: middle;\n",
       "    }\n",
       "\n",
       "    .dataframe tbody tr th {\n",
       "        vertical-align: top;\n",
       "    }\n",
       "\n",
       "    .dataframe thead th {\n",
       "        text-align: right;\n",
       "    }\n",
       "</style>\n",
       "<table border=\"1\" class=\"dataframe\">\n",
       "  <thead>\n",
       "    <tr style=\"text-align: right;\">\n",
       "      <th></th>\n",
       "      <th>Precision</th>\n",
       "      <th>True Negative Rate</th>\n",
       "      <th>False_Positive_Rate</th>\n",
       "      <th>f_score</th>\n",
       "      <th>Accuracy</th>\n",
       "    </tr>\n",
       "  </thead>\n",
       "  <tbody>\n",
       "    <tr>\n",
       "      <th>Lnear Regerssion</th>\n",
       "      <td>0.516129</td>\n",
       "      <td>0.571429</td>\n",
       "      <td>0.681818</td>\n",
       "      <td>0.542373</td>\n",
       "      <td>0.46</td>\n",
       "    </tr>\n",
       "    <tr>\n",
       "      <th>Decision Tree</th>\n",
       "      <td>0.478261</td>\n",
       "      <td>0.392857</td>\n",
       "      <td>0.545455</td>\n",
       "      <td>0.431373</td>\n",
       "      <td>0.42</td>\n",
       "    </tr>\n",
       "    <tr>\n",
       "      <th>Random Forest</th>\n",
       "      <td>0.451613</td>\n",
       "      <td>0.500000</td>\n",
       "      <td>0.772727</td>\n",
       "      <td>0.474576</td>\n",
       "      <td>0.38</td>\n",
       "    </tr>\n",
       "    <tr>\n",
       "      <th>Linear SVM</th>\n",
       "      <td>0.560000</td>\n",
       "      <td>1.000000</td>\n",
       "      <td>1.000000</td>\n",
       "      <td>0.717949</td>\n",
       "      <td>0.56</td>\n",
       "    </tr>\n",
       "    <tr>\n",
       "      <th>Non-linear SVM(sigmoid)</th>\n",
       "      <td>0.727273</td>\n",
       "      <td>0.571429</td>\n",
       "      <td>0.272727</td>\n",
       "      <td>0.640000</td>\n",
       "      <td>0.64</td>\n",
       "    </tr>\n",
       "    <tr>\n",
       "      <th>Linear Neural Networks</th>\n",
       "      <td>0.380952</td>\n",
       "      <td>0.285714</td>\n",
       "      <td>0.590909</td>\n",
       "      <td>0.326531</td>\n",
       "      <td>0.34</td>\n",
       "    </tr>\n",
       "    <tr>\n",
       "      <th>Non-Linear Neural Networks</th>\n",
       "      <td>0.416667</td>\n",
       "      <td>0.357143</td>\n",
       "      <td>0.636364</td>\n",
       "      <td>0.384615</td>\n",
       "      <td>0.36</td>\n",
       "    </tr>\n",
       "  </tbody>\n",
       "</table>\n",
       "</div>"
      ],
      "text/plain": [
       "                            Precision  True Negative Rate  \\\n",
       "Lnear Regerssion             0.516129            0.571429   \n",
       "Decision Tree                0.478261            0.392857   \n",
       "Random Forest                0.451613            0.500000   \n",
       "Linear SVM                   0.560000            1.000000   \n",
       "Non-linear SVM(sigmoid)      0.727273            0.571429   \n",
       "Linear Neural Networks       0.380952            0.285714   \n",
       "Non-Linear Neural Networks   0.416667            0.357143   \n",
       "\n",
       "                            False_Positive_Rate   f_score  Accuracy  \n",
       "Lnear Regerssion                       0.681818  0.542373      0.46  \n",
       "Decision Tree                          0.545455  0.431373      0.42  \n",
       "Random Forest                          0.772727  0.474576      0.38  \n",
       "Linear SVM                             1.000000  0.717949      0.56  \n",
       "Non-linear SVM(sigmoid)                0.272727  0.640000      0.64  \n",
       "Linear Neural Networks                 0.590909  0.326531      0.34  \n",
       "Non-Linear Neural Networks             0.636364  0.384615      0.36  "
      ]
     },
     "execution_count": 144,
     "metadata": {},
     "output_type": "execute_result"
    }
   ],
   "source": [
    "weekly_nyt_all=ml_modle(x_wtrain2,y_wtrain,x_wtest2,y_wtest,tree_max_depth=3,threshold=0,SVM_C=1,net_pass=100,hid_layer=5)\n",
    "score(weekly_nyt_all)"
   ]
  },
  {
   "cell_type": "code",
   "execution_count": 145,
   "metadata": {},
   "outputs": [
    {
     "data": {
      "image/png": "[encoded data removed]",
      "text/plain": [
       "<Figure size 360x288 with 1 Axes>"
      ]
     },
     "metadata": {
      "needs_background": "light"
     },
     "output_type": "display_data"
    }
   ],
   "source": [
    "importances=weekly_nyt_all[7]\n",
    "indices = np.argsort(importances)\n",
    "plt.figure(figsize=(5,4))\n",
    "feature_names = [key for key in x_wtrain2 if not key == 'direction']\n",
    "plt.title('Feature Importances')\n",
    "plt.barh(range(len(indices)), importances[indices], color='b', align='center')\n",
    "plt.yticks(range(len(indices)),feature_names)\n",
    "plt.xlabel('Relative Importance')\n",
    "plt.show()"
   ]
  },
  {
   "cell_type": "code",
   "execution_count": null,
   "metadata": {},
   "outputs": [],
   "source": []
  }
 ],
 "metadata": {
  "kernelspec": {
   "display_name": "Python 3",
   "language": "python",
   "name": "python3"
  },
  "language_info": {
   "codemirror_mode": {
    "name": "ipython",
    "version": 3
   },
   "file_extension": ".py",
   "mimetype": "text/x-python",
   "name": "python",
   "nbconvert_exporter": "python",
   "pygments_lexer": "ipython3",
   "version": "3.7.3"
  }
 },
 "nbformat": 4,
 "nbformat_minor": 2
}
